{
 "cells": [
  {
   "cell_type": "code",
   "execution_count": 1,
   "metadata": {},
   "outputs": [],
   "source": [
    "import pandas as pd\n",
    "import numpy as np"
   ]
  },
  {
   "cell_type": "code",
   "execution_count": 2,
   "metadata": {},
   "outputs": [],
   "source": [
    "import seaborn as sns"
   ]
  },
  {
   "cell_type": "code",
   "execution_count": 3,
   "metadata": {},
   "outputs": [],
   "source": [
    "df = pd.read_csv('fake_reg.csv')"
   ]
  },
  {
   "cell_type": "code",
   "execution_count": 4,
   "metadata": {},
   "outputs": [
    {
     "data": {
      "text/html": [
       "<div>\n",
       "<style scoped>\n",
       "    .dataframe tbody tr th:only-of-type {\n",
       "        vertical-align: middle;\n",
       "    }\n",
       "\n",
       "    .dataframe tbody tr th {\n",
       "        vertical-align: top;\n",
       "    }\n",
       "\n",
       "    .dataframe thead th {\n",
       "        text-align: right;\n",
       "    }\n",
       "</style>\n",
       "<table border=\"1\" class=\"dataframe\">\n",
       "  <thead>\n",
       "    <tr style=\"text-align: right;\">\n",
       "      <th></th>\n",
       "      <th>price</th>\n",
       "      <th>feature1</th>\n",
       "      <th>feature2</th>\n",
       "    </tr>\n",
       "  </thead>\n",
       "  <tbody>\n",
       "    <tr>\n",
       "      <td>0</td>\n",
       "      <td>461.527929</td>\n",
       "      <td>999.787558</td>\n",
       "      <td>999.766096</td>\n",
       "    </tr>\n",
       "    <tr>\n",
       "      <td>1</td>\n",
       "      <td>548.130011</td>\n",
       "      <td>998.861615</td>\n",
       "      <td>1001.042403</td>\n",
       "    </tr>\n",
       "    <tr>\n",
       "      <td>2</td>\n",
       "      <td>410.297162</td>\n",
       "      <td>1000.070267</td>\n",
       "      <td>998.844015</td>\n",
       "    </tr>\n",
       "    <tr>\n",
       "      <td>3</td>\n",
       "      <td>540.382220</td>\n",
       "      <td>999.952251</td>\n",
       "      <td>1000.440940</td>\n",
       "    </tr>\n",
       "    <tr>\n",
       "      <td>4</td>\n",
       "      <td>546.024553</td>\n",
       "      <td>1000.446011</td>\n",
       "      <td>1000.338531</td>\n",
       "    </tr>\n",
       "  </tbody>\n",
       "</table>\n",
       "</div>"
      ],
      "text/plain": [
       "        price     feature1     feature2\n",
       "0  461.527929   999.787558   999.766096\n",
       "1  548.130011   998.861615  1001.042403\n",
       "2  410.297162  1000.070267   998.844015\n",
       "3  540.382220   999.952251  1000.440940\n",
       "4  546.024553  1000.446011  1000.338531"
      ]
     },
     "execution_count": 4,
     "metadata": {},
     "output_type": "execute_result"
    }
   ],
   "source": [
    "df.head()"
   ]
  },
  {
   "cell_type": "code",
   "execution_count": 5,
   "metadata": {},
   "outputs": [
    {
     "name": "stdout",
     "output_type": "stream",
     "text": [
      "<class 'pandas.core.frame.DataFrame'>\n",
      "RangeIndex: 1000 entries, 0 to 999\n",
      "Data columns (total 3 columns):\n",
      "price       1000 non-null float64\n",
      "feature1    1000 non-null float64\n",
      "feature2    1000 non-null float64\n",
      "dtypes: float64(3)\n",
      "memory usage: 23.6 KB\n"
     ]
    }
   ],
   "source": [
    "df.info()"
   ]
  },
  {
   "cell_type": "code",
   "execution_count": 6,
   "metadata": {},
   "outputs": [
    {
     "data": {
      "text/html": [
       "<div>\n",
       "<style scoped>\n",
       "    .dataframe tbody tr th:only-of-type {\n",
       "        vertical-align: middle;\n",
       "    }\n",
       "\n",
       "    .dataframe tbody tr th {\n",
       "        vertical-align: top;\n",
       "    }\n",
       "\n",
       "    .dataframe thead th {\n",
       "        text-align: right;\n",
       "    }\n",
       "</style>\n",
       "<table border=\"1\" class=\"dataframe\">\n",
       "  <thead>\n",
       "    <tr style=\"text-align: right;\">\n",
       "      <th></th>\n",
       "      <th>price</th>\n",
       "      <th>feature1</th>\n",
       "      <th>feature2</th>\n",
       "    </tr>\n",
       "  </thead>\n",
       "  <tbody>\n",
       "    <tr>\n",
       "      <td>count</td>\n",
       "      <td>1000.000000</td>\n",
       "      <td>1000.000000</td>\n",
       "      <td>1000.000000</td>\n",
       "    </tr>\n",
       "    <tr>\n",
       "      <td>mean</td>\n",
       "      <td>498.673029</td>\n",
       "      <td>1000.014171</td>\n",
       "      <td>999.979847</td>\n",
       "    </tr>\n",
       "    <tr>\n",
       "      <td>std</td>\n",
       "      <td>93.785431</td>\n",
       "      <td>0.974018</td>\n",
       "      <td>0.948330</td>\n",
       "    </tr>\n",
       "    <tr>\n",
       "      <td>min</td>\n",
       "      <td>223.346793</td>\n",
       "      <td>997.058347</td>\n",
       "      <td>996.995651</td>\n",
       "    </tr>\n",
       "    <tr>\n",
       "      <td>25%</td>\n",
       "      <td>433.025732</td>\n",
       "      <td>999.332068</td>\n",
       "      <td>999.316106</td>\n",
       "    </tr>\n",
       "    <tr>\n",
       "      <td>50%</td>\n",
       "      <td>502.382117</td>\n",
       "      <td>1000.009915</td>\n",
       "      <td>1000.002243</td>\n",
       "    </tr>\n",
       "    <tr>\n",
       "      <td>75%</td>\n",
       "      <td>564.921588</td>\n",
       "      <td>1000.637580</td>\n",
       "      <td>1000.645380</td>\n",
       "    </tr>\n",
       "    <tr>\n",
       "      <td>max</td>\n",
       "      <td>774.407854</td>\n",
       "      <td>1003.207934</td>\n",
       "      <td>1002.666308</td>\n",
       "    </tr>\n",
       "  </tbody>\n",
       "</table>\n",
       "</div>"
      ],
      "text/plain": [
       "             price     feature1     feature2\n",
       "count  1000.000000  1000.000000  1000.000000\n",
       "mean    498.673029  1000.014171   999.979847\n",
       "std      93.785431     0.974018     0.948330\n",
       "min     223.346793   997.058347   996.995651\n",
       "25%     433.025732   999.332068   999.316106\n",
       "50%     502.382117  1000.009915  1000.002243\n",
       "75%     564.921588  1000.637580  1000.645380\n",
       "max     774.407854  1003.207934  1002.666308"
      ]
     },
     "execution_count": 6,
     "metadata": {},
     "output_type": "execute_result"
    }
   ],
   "source": [
    "df.describe()"
   ]
  },
  {
   "cell_type": "code",
   "execution_count": 7,
   "metadata": {},
   "outputs": [
    {
     "data": {
      "text/plain": [
       "<seaborn.axisgrid.PairGrid at 0x17d1616f348>"
      ]
     },
     "execution_count": 7,
     "metadata": {},
     "output_type": "execute_result"
    },
    {
     "data": {
      "image/png": "[encoded data removed]",
      "text/plain": [
       "<Figure size 540x540 with 12 Axes>"
      ]
     },
     "metadata": {
      "needs_background": "light"
     },
     "output_type": "display_data"
    }
   ],
   "source": [
    "sns.pairplot(df)"
   ]
  },
  {
   "cell_type": "code",
   "execution_count": 8,
   "metadata": {},
   "outputs": [],
   "source": [
    "from sklearn.model_selection import train_test_split"
   ]
  },
  {
   "cell_type": "code",
   "execution_count": 9,
   "metadata": {},
   "outputs": [],
   "source": [
    "X = df[['feature1','feature2']].values\n",
    "y = df['price'].values"
   ]
  },
  {
   "cell_type": "code",
   "execution_count": 10,
   "metadata": {},
   "outputs": [],
   "source": [
    "X_train, X_test,y_train, y_test = train_test_split(X,y,test_size=0.3, random_state=42)"
   ]
  },
  {
   "cell_type": "code",
   "execution_count": 11,
   "metadata": {},
   "outputs": [
    {
     "data": {
      "text/plain": [
       "(700, 2)"
      ]
     },
     "execution_count": 11,
     "metadata": {},
     "output_type": "execute_result"
    }
   ],
   "source": [
    "X_train.shape"
   ]
  },
  {
   "cell_type": "code",
   "execution_count": 12,
   "metadata": {},
   "outputs": [
    {
     "data": {
      "text/plain": [
       "(300, 2)"
      ]
     },
     "execution_count": 12,
     "metadata": {},
     "output_type": "execute_result"
    }
   ],
   "source": [
    "X_test.shape"
   ]
  },
  {
   "cell_type": "code",
   "execution_count": 13,
   "metadata": {},
   "outputs": [],
   "source": [
    "from  sklearn.preprocessing import MinMaxScaler"
   ]
  },
  {
   "cell_type": "code",
   "execution_count": 14,
   "metadata": {},
   "outputs": [],
   "source": [
    "#help(MinMaxScaler)"
   ]
  },
  {
   "cell_type": "code",
   "execution_count": 15,
   "metadata": {},
   "outputs": [],
   "source": [
    "scaler = MinMaxScaler()"
   ]
  },
  {
   "cell_type": "code",
   "execution_count": 16,
   "metadata": {},
   "outputs": [
    {
     "data": {
      "text/plain": [
       "MinMaxScaler(copy=True, feature_range=(0, 1))"
      ]
     },
     "execution_count": 16,
     "metadata": {},
     "output_type": "execute_result"
    }
   ],
   "source": [
    "scaler.fit(X_train)"
   ]
  },
  {
   "cell_type": "code",
   "execution_count": 17,
   "metadata": {},
   "outputs": [],
   "source": [
    "X_train = scaler.transform(X_train)"
   ]
  },
  {
   "cell_type": "code",
   "execution_count": 18,
   "metadata": {},
   "outputs": [],
   "source": [
    "X_test = scaler.transform(X_test)"
   ]
  },
  {
   "cell_type": "code",
   "execution_count": 19,
   "metadata": {},
   "outputs": [
    {
     "data": {
      "text/plain": [
       "0.0"
      ]
     },
     "execution_count": 19,
     "metadata": {},
     "output_type": "execute_result"
    }
   ],
   "source": [
    "X_train.min()"
   ]
  },
  {
   "cell_type": "code",
   "execution_count": 20,
   "metadata": {},
   "outputs": [
    {
     "data": {
      "text/plain": [
       "1.0"
      ]
     },
     "execution_count": 20,
     "metadata": {},
     "output_type": "execute_result"
    }
   ],
   "source": [
    "X_train.max()"
   ]
  },
  {
   "cell_type": "code",
   "execution_count": 21,
   "metadata": {},
   "outputs": [],
   "source": [
    "#do not see any values from test set"
   ]
  },
  {
   "cell_type": "code",
   "execution_count": null,
   "metadata": {},
   "outputs": [],
   "source": []
  },
  {
   "cell_type": "code",
   "execution_count": null,
   "metadata": {},
   "outputs": [],
   "source": []
  },
  {
   "cell_type": "code",
   "execution_count": 29,
   "metadata": {},
   "outputs": [],
   "source": [
    "from tensorflow.keras.models import Sequential\n",
    "from tensorflow.keras.layers import Dense"
   ]
  },
  {
   "cell_type": "code",
   "execution_count": null,
   "metadata": {},
   "outputs": [],
   "source": []
  },
  {
   "cell_type": "code",
   "execution_count": 24,
   "metadata": {},
   "outputs": [],
   "source": [
    "import sys"
   ]
  },
  {
   "cell_type": "code",
   "execution_count": 25,
   "metadata": {},
   "outputs": [
    {
     "data": {
      "text/plain": [
       "'3.7.4 (default, Aug  9 2019, 18:34:13) [MSC v.1915 64 bit (AMD64)]'"
      ]
     },
     "execution_count": 25,
     "metadata": {},
     "output_type": "execute_result"
    }
   ],
   "source": [
    "sys.version"
   ]
  },
  {
   "cell_type": "code",
   "execution_count": null,
   "metadata": {},
   "outputs": [],
   "source": []
  },
  {
   "cell_type": "code",
   "execution_count": 26,
   "metadata": {},
   "outputs": [
    {
     "name": "stdout",
     "output_type": "stream",
     "text": [
      "3.7.4\n"
     ]
    }
   ],
   "source": [
    "from platform import python_version\n",
    "\n",
    "print(python_version())"
   ]
  },
  {
   "cell_type": "code",
   "execution_count": null,
   "metadata": {},
   "outputs": [],
   "source": []
  },
  {
   "cell_type": "code",
   "execution_count": 38,
   "metadata": {},
   "outputs": [],
   "source": [
    "# help(Sequential)"
   ]
  },
  {
   "cell_type": "code",
   "execution_count": 39,
   "metadata": {},
   "outputs": [],
   "source": [
    "# help(Dense)"
   ]
  },
  {
   "cell_type": "code",
   "execution_count": null,
   "metadata": {},
   "outputs": [],
   "source": []
  },
  {
   "cell_type": "code",
   "execution_count": 41,
   "metadata": {},
   "outputs": [],
   "source": [
    "# model = Sequential([Dense(4,activation='relu'),\n",
    "#                    Dense(2,activation='relu'),\n",
    "#                    Dense(1,activation='softmax')])"
   ]
  },
  {
   "cell_type": "code",
   "execution_count": 42,
   "metadata": {},
   "outputs": [],
   "source": [
    "# this way is easy to remember and easy to operate\n",
    "# model=Sequential()\n",
    "#\n",
    "# model.add(Dense(4,activation='relu'))\n",
    "# model.add(Dense(2,activation='relu'))\n",
    "# model.add(Dense(1))"
   ]
  },
  {
   "cell_type": "code",
   "execution_count": 94,
   "metadata": {},
   "outputs": [],
   "source": [
    "model=Sequential()\n",
    "\n",
    "model.add(Dense(4,activation='relu'))\n",
    "model.add(Dense(4,activation='relu'))\n",
    "model.add(Dense(4,activation='relu'))\n",
    "\n",
    "model.add(Dense(1))\n",
    "\n",
    "model.compile(optimizer='rmsprop',loss='mse')"
   ]
  },
  {
   "cell_type": "code",
   "execution_count": 95,
   "metadata": {},
   "outputs": [
    {
     "name": "stdout",
     "output_type": "stream",
     "text": [
      "Epoch 1/250\n",
      "22/22 [==============================] - 0s 771us/step - loss: 256595.8438\n",
      "Epoch 2/250\n",
      "22/22 [==============================] - 0s 680us/step - loss: 256410.0625\n",
      "Epoch 3/250\n",
      "22/22 [==============================] - 0s 724us/step - loss: 256193.7344\n",
      "Epoch 4/250\n",
      "22/22 [==============================] - 0s 727us/step - loss: 255943.1250\n",
      "Epoch 5/250\n",
      "22/22 [==============================] - 0s 732us/step - loss: 255671.2031\n",
      "Epoch 6/250\n",
      "22/22 [==============================] - 0s 727us/step - loss: 255380.5000\n",
      "Epoch 7/250\n",
      "22/22 [==============================] - 0s 725us/step - loss: 255066.7656\n",
      "Epoch 8/250\n",
      "22/22 [==============================] - 0s 725us/step - loss: 254722.3125\n",
      "Epoch 9/250\n",
      "22/22 [==============================] - 0s 724us/step - loss: 254342.7812\n",
      "Epoch 10/250\n",
      "22/22 [==============================] - 0s 720us/step - loss: 253923.7031\n",
      "Epoch 11/250\n",
      "22/22 [==============================] - 0s 725us/step - loss: 253468.4844\n",
      "Epoch 12/250\n",
      "22/22 [==============================] - 0s 725us/step - loss: 252969.2969\n",
      "Epoch 13/250\n",
      "22/22 [==============================] - 0s 679us/step - loss: 252425.9375\n",
      "Epoch 14/250\n",
      "22/22 [==============================] - 0s 679us/step - loss: 251836.5469\n",
      "Epoch 15/250\n",
      "22/22 [==============================] - ETA: 0s - loss: 242152.81 - 0s 679us/step - loss: 251196.4062\n",
      "Epoch 16/250\n",
      "22/22 [==============================] - 0s 815us/step - loss: 250506.2656\n",
      "Epoch 17/250\n",
      "22/22 [==============================] - 0s 751us/step - loss: 249761.5469\n",
      "Epoch 18/250\n",
      "22/22 [==============================] - 0s 773us/step - loss: 248955.8125\n",
      "Epoch 19/250\n",
      "22/22 [==============================] - 0s 817us/step - loss: 248088.0938\n",
      "Epoch 20/250\n",
      "22/22 [==============================] - 0s 769us/step - loss: 247159.8594\n",
      "Epoch 21/250\n",
      "22/22 [==============================] - 0s 725us/step - loss: 246156.5781\n",
      "Epoch 22/250\n",
      "22/22 [==============================] - 0s 816us/step - loss: 245071.2031\n",
      "Epoch 23/250\n",
      "22/22 [==============================] - 0s 815us/step - loss: 243899.4688\n",
      "Epoch 24/250\n",
      "22/22 [==============================] - 0s 725us/step - loss: 242644.9375\n",
      "Epoch 25/250\n",
      "22/22 [==============================] - 0s 724us/step - loss: 241301.6250\n",
      "Epoch 26/250\n",
      "22/22 [==============================] - 0s 723us/step - loss: 239867.0469\n",
      "Epoch 27/250\n",
      "22/22 [==============================] - 0s 769us/step - loss: 238334.6250\n",
      "Epoch 28/250\n",
      "22/22 [==============================] - 0s 726us/step - loss: 236693.5156\n",
      "Epoch 29/250\n",
      "22/22 [==============================] - 0s 724us/step - loss: 234969.1250\n",
      "Epoch 30/250\n",
      "22/22 [==============================] - 0s 726us/step - loss: 233140.6562\n",
      "Epoch 31/250\n",
      "22/22 [==============================] - 0s 724us/step - loss: 231204.7969\n",
      "Epoch 32/250\n",
      "22/22 [==============================] - 0s 726us/step - loss: 229164.0938\n",
      "Epoch 33/250\n",
      "22/22 [==============================] - 0s 680us/step - loss: 227000.1875\n",
      "Epoch 34/250\n",
      "22/22 [==============================] - 0s 724us/step - loss: 224728.0625\n",
      "Epoch 35/250\n",
      "22/22 [==============================] - 0s 680us/step - loss: 222346.5625\n",
      "Epoch 36/250\n",
      "22/22 [==============================] - 0s 680us/step - loss: 219844.2812\n",
      "Epoch 37/250\n",
      "22/22 [==============================] - 0s 701us/step - loss: 217211.1562\n",
      "Epoch 38/250\n",
      "22/22 [==============================] - 0s 771us/step - loss: 214464.7344\n",
      "Epoch 39/250\n",
      "22/22 [==============================] - 0s 680us/step - loss: 211603.1250\n",
      "Epoch 40/250\n",
      "22/22 [==============================] - 0s 679us/step - loss: 208589.4375\n",
      "Epoch 41/250\n",
      "22/22 [==============================] - 0s 733us/step - loss: 205455.3438\n",
      "Epoch 42/250\n",
      "22/22 [==============================] - 0s 725us/step - loss: 202190.0781\n",
      "Epoch 43/250\n",
      "22/22 [==============================] - 0s 725us/step - loss: 198795.1719\n",
      "Epoch 44/250\n",
      "22/22 [==============================] - 0s 725us/step - loss: 195260.9844\n",
      "Epoch 45/250\n",
      "22/22 [==============================] - 0s 725us/step - loss: 191590.9844\n",
      "Epoch 46/250\n",
      "22/22 [==============================] - 0s 727us/step - loss: 187791.3906\n",
      "Epoch 47/250\n",
      "22/22 [==============================] - 0s 725us/step - loss: 183855.4531\n",
      "Epoch 48/250\n",
      "22/22 [==============================] - 0s 771us/step - loss: 179761.9375\n",
      "Epoch 49/250\n",
      "22/22 [==============================] - 0s 769us/step - loss: 175567.0469\n",
      "Epoch 50/250\n",
      "22/22 [==============================] - 0s 772us/step - loss: 171254.3281\n",
      "Epoch 51/250\n",
      "22/22 [==============================] - 0s 770us/step - loss: 166796.9375\n",
      "Epoch 52/250\n",
      "22/22 [==============================] - 0s 771us/step - loss: 162211.3906\n",
      "Epoch 53/250\n",
      "22/22 [==============================] - 0s 770us/step - loss: 157490.4531\n",
      "Epoch 54/250\n",
      "22/22 [==============================] - 0s 861us/step - loss: 152648.3906\n",
      "Epoch 55/250\n",
      "22/22 [==============================] - 0s 772us/step - loss: 147706.6719\n",
      "Epoch 56/250\n",
      "22/22 [==============================] - 0s 725us/step - loss: 142675.7969\n",
      "Epoch 57/250\n",
      "22/22 [==============================] - 0s 724us/step - loss: 137513.2500\n",
      "Epoch 58/250\n",
      "22/22 [==============================] - 0s 770us/step - loss: 132269.0469\n",
      "Epoch 59/250\n",
      "22/22 [==============================] - 0s 779us/step - loss: 126886.7656\n",
      "Epoch 60/250\n",
      "22/22 [==============================] - 0s 704us/step - loss: 121440.9062\n",
      "Epoch 61/250\n",
      "22/22 [==============================] - 0s 725us/step - loss: 115929.1797\n",
      "Epoch 62/250\n",
      "22/22 [==============================] - 0s 725us/step - loss: 110350.5469\n",
      "Epoch 63/250\n",
      "22/22 [==============================] - 0s 771us/step - loss: 104720.2969\n",
      "Epoch 64/250\n",
      "22/22 [==============================] - 0s 769us/step - loss: 99043.9922\n",
      "Epoch 65/250\n",
      "22/22 [==============================] - 0s 771us/step - loss: 93349.9531\n",
      "Epoch 66/250\n",
      "22/22 [==============================] - 0s 770us/step - loss: 87640.6016\n",
      "Epoch 67/250\n",
      "22/22 [==============================] - 0s 727us/step - loss: 81932.7734\n",
      "Epoch 68/250\n",
      "22/22 [==============================] - 0s 771us/step - loss: 76216.9922\n",
      "Epoch 69/250\n",
      "22/22 [==============================] - 0s 816us/step - loss: 70546.9688\n",
      "Epoch 70/250\n",
      "22/22 [==============================] - 0s 755us/step - loss: 64939.8398\n",
      "Epoch 71/250\n",
      "22/22 [==============================] - 0s 725us/step - loss: 59398.9648\n",
      "Epoch 72/250\n",
      "22/22 [==============================] - ETA: 0s - loss: 54693.773 - 0s 756us/step - loss: 53959.8672\n",
      "Epoch 73/250\n",
      "22/22 [==============================] - 0s 770us/step - loss: 48598.7891\n",
      "Epoch 74/250\n",
      "22/22 [==============================] - 0s 816us/step - loss: 43423.0977\n",
      "Epoch 75/250\n",
      "22/22 [==============================] - 0s 861us/step - loss: 38397.2070\n",
      "Epoch 76/250\n",
      "22/22 [==============================] - 0s 861us/step - loss: 33574.1562\n",
      "Epoch 77/250\n",
      "22/22 [==============================] - 0s 771us/step - loss: 28982.9512\n",
      "Epoch 78/250\n",
      "22/22 [==============================] - 0s 816us/step - loss: 24655.6055\n",
      "Epoch 79/250\n",
      "22/22 [==============================] - 0s 907us/step - loss: 20586.6934\n",
      "Epoch 80/250\n",
      "22/22 [==============================] - 0s 861us/step - loss: 16815.8242\n",
      "Epoch 81/250\n",
      "22/22 [==============================] - 0s 680us/step - loss: 13455.6855\n",
      "Epoch 82/250\n",
      "22/22 [==============================] - 0s 725us/step - loss: 10478.8096\n",
      "Epoch 83/250\n",
      "22/22 [==============================] - 0s 771us/step - loss: 7882.3706\n",
      "Epoch 84/250\n",
      "22/22 [==============================] - 0s 771us/step - loss: 5758.2617\n",
      "Epoch 85/250\n",
      "22/22 [==============================] - 0s 726us/step - loss: 4122.4136\n",
      "Epoch 86/250\n",
      "22/22 [==============================] - 0s 745us/step - loss: 2961.4045\n",
      "Epoch 87/250\n",
      "22/22 [==============================] - 0s 725us/step - loss: 2277.7900\n",
      "Epoch 88/250\n",
      "22/22 [==============================] - 0s 724us/step - loss: 2004.1914\n",
      "Epoch 89/250\n",
      "22/22 [==============================] - 0s 726us/step - loss: 1945.4197\n",
      "Epoch 90/250\n",
      "22/22 [==============================] - 0s 814us/step - loss: 1915.2875\n",
      "Epoch 91/250\n",
      "22/22 [==============================] - 0s 680us/step - loss: 1880.5354\n",
      "Epoch 92/250\n",
      "22/22 [==============================] - 0s 816us/step - loss: 1846.2998\n",
      "Epoch 93/250\n",
      "22/22 [==============================] - 0s 771us/step - loss: 1815.5127\n",
      "Epoch 94/250\n"
     ]
    },
    {
     "name": "stdout",
     "output_type": "stream",
     "text": [
      "22/22 [==============================] - 0s 816us/step - loss: 1782.9567\n",
      "Epoch 95/250\n",
      "22/22 [==============================] - 0s 861us/step - loss: 1752.3282\n",
      "Epoch 96/250\n",
      "22/22 [==============================] - 0s 771us/step - loss: 1719.8209\n",
      "Epoch 97/250\n",
      "22/22 [==============================] - 0s 952us/step - loss: 1691.4071\n",
      "Epoch 98/250\n",
      "22/22 [==============================] - 0s 680us/step - loss: 1656.5594\n",
      "Epoch 99/250\n",
      "22/22 [==============================] - 0s 769us/step - loss: 1621.4468\n",
      "Epoch 100/250\n",
      "22/22 [==============================] - 0s 773us/step - loss: 1590.2823\n",
      "Epoch 101/250\n",
      "22/22 [==============================] - 0s 725us/step - loss: 1559.6012\n",
      "Epoch 102/250\n",
      "22/22 [==============================] - 0s 758us/step - loss: 1530.6917\n",
      "Epoch 103/250\n",
      "22/22 [==============================] - 0s 690us/step - loss: 1500.6161\n",
      "Epoch 104/250\n",
      "22/22 [==============================] - 0s 692us/step - loss: 1472.0632\n",
      "Epoch 105/250\n",
      "22/22 [==============================] - 0s 681us/step - loss: 1439.5175\n",
      "Epoch 106/250\n",
      "22/22 [==============================] - 0s 680us/step - loss: 1407.8242\n",
      "Epoch 107/250\n",
      "22/22 [==============================] - 0s 635us/step - loss: 1375.7183\n",
      "Epoch 108/250\n",
      "22/22 [==============================] - 0s 633us/step - loss: 1347.8337\n",
      "Epoch 109/250\n",
      "22/22 [==============================] - 0s 635us/step - loss: 1315.5620\n",
      "Epoch 110/250\n",
      "22/22 [==============================] - 0s 635us/step - loss: 1284.5541\n",
      "Epoch 111/250\n",
      "22/22 [==============================] - 0s 635us/step - loss: 1255.3010\n",
      "Epoch 112/250\n",
      "22/22 [==============================] - 0s 770us/step - loss: 1224.1012\n",
      "Epoch 113/250\n",
      "22/22 [==============================] - 0s 1ms/step - loss: 1198.1064\n",
      "Epoch 114/250\n",
      "22/22 [==============================] - 0s 907us/step - loss: 1169.8300\n",
      "Epoch 115/250\n",
      "22/22 [==============================] - 0s 771us/step - loss: 1142.3606\n",
      "Epoch 116/250\n",
      "22/22 [==============================] - 0s 907us/step - loss: 1113.0507\n",
      "Epoch 117/250\n",
      "22/22 [==============================] - 0s 1ms/step - loss: 1087.0221\n",
      "Epoch 118/250\n",
      "22/22 [==============================] - 0s 1ms/step - loss: 1063.5842\n",
      "Epoch 119/250\n",
      "22/22 [==============================] - 0s 726us/step - loss: 1037.2164\n",
      "Epoch 120/250\n",
      "22/22 [==============================] - 0s 725us/step - loss: 1010.6376\n",
      "Epoch 121/250\n",
      "22/22 [==============================] - 0s 635us/step - loss: 980.1935\n",
      "Epoch 122/250\n",
      "22/22 [==============================] - 0s 680us/step - loss: 953.1060\n",
      "Epoch 123/250\n",
      "22/22 [==============================] - 0s 680us/step - loss: 927.0652\n",
      "Epoch 124/250\n",
      "22/22 [==============================] - 0s 861us/step - loss: 900.6063\n",
      "Epoch 125/250\n",
      "22/22 [==============================] - 0s 800us/step - loss: 875.0045\n",
      "Epoch 126/250\n",
      "22/22 [==============================] - 0s 724us/step - loss: 850.5446\n",
      "Epoch 127/250\n",
      "22/22 [==============================] - 0s 711us/step - loss: 827.6296\n",
      "Epoch 128/250\n",
      "22/22 [==============================] - 0s 680us/step - loss: 802.2920\n",
      "Epoch 129/250\n",
      "22/22 [==============================] - 0s 679us/step - loss: 778.2434\n",
      "Epoch 130/250\n",
      "22/22 [==============================] - 0s 679us/step - loss: 752.0048\n",
      "Epoch 131/250\n",
      "22/22 [==============================] - 0s 635us/step - loss: 729.8958\n",
      "Epoch 132/250\n",
      "22/22 [==============================] - 0s 635us/step - loss: 706.8450\n",
      "Epoch 133/250\n",
      "22/22 [==============================] - 0s 659us/step - loss: 684.8998\n",
      "Epoch 134/250\n",
      "22/22 [==============================] - 0s 680us/step - loss: 664.3036\n",
      "Epoch 135/250\n",
      "22/22 [==============================] - 0s 679us/step - loss: 642.0309\n",
      "Epoch 136/250\n",
      "22/22 [==============================] - 0s 815us/step - loss: 619.2990\n",
      "Epoch 137/250\n",
      "22/22 [==============================] - 0s 861us/step - loss: 598.8010\n",
      "Epoch 138/250\n",
      "22/22 [==============================] - 0s 771us/step - loss: 578.3033\n",
      "Epoch 139/250\n",
      "22/22 [==============================] - 0s 771us/step - loss: 558.8730\n",
      "Epoch 140/250\n",
      "22/22 [==============================] - 0s 771us/step - loss: 537.2055\n",
      "Epoch 141/250\n",
      "22/22 [==============================] - 0s 771us/step - loss: 518.2421\n",
      "Epoch 142/250\n",
      "22/22 [==============================] - 0s 771us/step - loss: 498.7476\n",
      "Epoch 143/250\n",
      "22/22 [==============================] - 0s 771us/step - loss: 479.9489\n",
      "Epoch 144/250\n",
      "22/22 [==============================] - 0s 725us/step - loss: 461.2847\n",
      "Epoch 145/250\n",
      "22/22 [==============================] - 0s 725us/step - loss: 443.5309\n",
      "Epoch 146/250\n",
      "22/22 [==============================] - 0s 704us/step - loss: 425.0748\n",
      "Epoch 147/250\n",
      "22/22 [==============================] - 0s 681us/step - loss: 406.9001\n",
      "Epoch 148/250\n",
      "22/22 [==============================] - 0s 680us/step - loss: 389.4025\n",
      "Epoch 149/250\n",
      "22/22 [==============================] - 0s 770us/step - loss: 374.2646\n",
      "Epoch 150/250\n",
      "22/22 [==============================] - 0s 771us/step - loss: 358.2635\n",
      "Epoch 151/250\n",
      "22/22 [==============================] - 0s 725us/step - loss: 340.6185\n",
      "Epoch 152/250\n",
      "22/22 [==============================] - 0s 725us/step - loss: 323.4896\n",
      "Epoch 153/250\n",
      "22/22 [==============================] - 0s 771us/step - loss: 306.6900\n",
      "Epoch 154/250\n",
      "22/22 [==============================] - 0s 771us/step - loss: 291.9343\n",
      "Epoch 155/250\n",
      "22/22 [==============================] - 0s 700us/step - loss: 277.6953\n",
      "Epoch 156/250\n",
      "22/22 [==============================] - 0s 743us/step - loss: 262.1891\n",
      "Epoch 157/250\n",
      "22/22 [==============================] - 0s 665us/step - loss: 248.3122\n",
      "Epoch 158/250\n",
      "22/22 [==============================] - 0s 714us/step - loss: 235.8892\n",
      "Epoch 159/250\n",
      "22/22 [==============================] - 0s 725us/step - loss: 223.7567\n",
      "Epoch 160/250\n",
      "22/22 [==============================] - 0s 668us/step - loss: 212.5896\n",
      "Epoch 161/250\n",
      "22/22 [==============================] - 0s 718us/step - loss: 199.2018\n",
      "Epoch 162/250\n",
      "22/22 [==============================] - 0s 718us/step - loss: 187.9697\n",
      "Epoch 163/250\n",
      "22/22 [==============================] - 0s 862us/step - loss: 176.1009\n",
      "Epoch 164/250\n",
      "22/22 [==============================] - 0s 710us/step - loss: 164.5454\n",
      "Epoch 165/250\n",
      "22/22 [==============================] - 0s 703us/step - loss: 153.4125\n",
      "Epoch 166/250\n",
      "22/22 [==============================] - 0s 726us/step - loss: 144.0648\n",
      "Epoch 167/250\n",
      "22/22 [==============================] - 0s 725us/step - loss: 134.8703\n",
      "Epoch 168/250\n",
      "22/22 [==============================] - 0s 770us/step - loss: 127.1519\n",
      "Epoch 169/250\n",
      "22/22 [==============================] - 0s 814us/step - loss: 118.0131\n",
      "Epoch 170/250\n",
      "22/22 [==============================] - 0s 861us/step - loss: 110.4141\n",
      "Epoch 171/250\n",
      "22/22 [==============================] - 0s 861us/step - loss: 102.8636\n",
      "Epoch 172/250\n",
      "22/22 [==============================] - 0s 816us/step - loss: 96.5231\n",
      "Epoch 173/250\n",
      "22/22 [==============================] - 0s 680us/step - loss: 90.5471\n",
      "Epoch 174/250\n",
      "22/22 [==============================] - 0s 861us/step - loss: 85.1363\n",
      "Epoch 175/250\n",
      "22/22 [==============================] - 0s 952us/step - loss: 79.0964\n",
      "Epoch 176/250\n",
      "22/22 [==============================] - 0s 998us/step - loss: 72.6863\n",
      "Epoch 177/250\n",
      "22/22 [==============================] - 0s 862us/step - loss: 67.1150\n",
      "Epoch 178/250\n",
      "22/22 [==============================] - 0s 816us/step - loss: 61.9503\n",
      "Epoch 179/250\n",
      "22/22 [==============================] - ETA: 0s - loss: 50.25 - 0s 816us/step - loss: 57.1541\n",
      "Epoch 180/250\n",
      "22/22 [==============================] - 0s 771us/step - loss: 52.9632\n",
      "Epoch 181/250\n",
      "22/22 [==============================] - 0s 816us/step - loss: 50.1652\n",
      "Epoch 182/250\n",
      "22/22 [==============================] - 0s 771us/step - loss: 46.5665\n",
      "Epoch 183/250\n",
      "22/22 [==============================] - 0s 771us/step - loss: 42.9820\n",
      "Epoch 184/250\n",
      "22/22 [==============================] - 0s 815us/step - loss: 40.6363\n",
      "Epoch 185/250\n",
      "22/22 [==============================] - 0s 725us/step - loss: 38.0635\n",
      "Epoch 186/250\n",
      "22/22 [==============================] - 0s 817us/step - loss: 36.2864\n",
      "Epoch 187/250\n",
      "22/22 [==============================] - 0s 798us/step - loss: 34.9107\n",
      "Epoch 188/250\n",
      "22/22 [==============================] - 0s 861us/step - loss: 32.6649\n",
      "Epoch 189/250\n"
     ]
    },
    {
     "name": "stdout",
     "output_type": "stream",
     "text": [
      "22/22 [==============================] - 0s 727us/step - loss: 31.6287\n",
      "Epoch 190/250\n",
      "22/22 [==============================] - 0s 816us/step - loss: 30.4102\n",
      "Epoch 191/250\n",
      "22/22 [==============================] - 0s 771us/step - loss: 28.7138\n",
      "Epoch 192/250\n",
      "22/22 [==============================] - 0s 730us/step - loss: 28.2809\n",
      "Epoch 193/250\n",
      "22/22 [==============================] - 0s 684us/step - loss: 27.8548\n",
      "Epoch 194/250\n",
      "22/22 [==============================] - 0s 667us/step - loss: 26.9815\n",
      "Epoch 195/250\n",
      "22/22 [==============================] - 0s 680us/step - loss: 26.6264\n",
      "Epoch 196/250\n",
      "22/22 [==============================] - 0s 680us/step - loss: 26.5883\n",
      "Epoch 197/250\n",
      "22/22 [==============================] - 0s 724us/step - loss: 25.8691\n",
      "Epoch 198/250\n",
      "22/22 [==============================] - 0s 721us/step - loss: 25.7609\n",
      "Epoch 199/250\n",
      "22/22 [==============================] - 0s 705us/step - loss: 25.2755\n",
      "Epoch 200/250\n",
      "22/22 [==============================] - 0s 635us/step - loss: 25.2864\n",
      "Epoch 201/250\n",
      "22/22 [==============================] - 0s 683us/step - loss: 24.9234\n",
      "Epoch 202/250\n",
      "22/22 [==============================] - 0s 681us/step - loss: 24.9696\n",
      "Epoch 203/250\n",
      "22/22 [==============================] - 0s 680us/step - loss: 24.8151\n",
      "Epoch 204/250\n",
      "22/22 [==============================] - 0s 636us/step - loss: 24.7415\n",
      "Epoch 205/250\n",
      "22/22 [==============================] - 0s 635us/step - loss: 24.3820\n",
      "Epoch 206/250\n",
      "22/22 [==============================] - 0s 681us/step - loss: 24.5558\n",
      "Epoch 207/250\n",
      "22/22 [==============================] - 0s 771us/step - loss: 24.5238\n",
      "Epoch 208/250\n",
      "22/22 [==============================] - 0s 861us/step - loss: 24.3945\n",
      "Epoch 209/250\n",
      "22/22 [==============================] - 0s 952us/step - loss: 24.4697\n",
      "Epoch 210/250\n",
      "22/22 [==============================] - 0s 816us/step - loss: 24.2468\n",
      "Epoch 211/250\n",
      "22/22 [==============================] - 0s 997us/step - loss: 24.6526\n",
      "Epoch 212/250\n",
      "22/22 [==============================] - 0s 952us/step - loss: 24.0510\n",
      "Epoch 213/250\n",
      "22/22 [==============================] - 0s 907us/step - loss: 24.3752\n",
      "Epoch 214/250\n",
      "22/22 [==============================] - 0s 817us/step - loss: 24.5253\n",
      "Epoch 215/250\n",
      "22/22 [==============================] - 0s 681us/step - loss: 24.3753\n",
      "Epoch 216/250\n",
      "22/22 [==============================] - 0s 725us/step - loss: 24.3170\n",
      "Epoch 217/250\n",
      "22/22 [==============================] - 0s 727us/step - loss: 23.9811\n",
      "Epoch 218/250\n",
      "22/22 [==============================] - 0s 734us/step - loss: 24.2394\n",
      "Epoch 219/250\n",
      "22/22 [==============================] - ETA: 0s - loss: 20.31 - 0s 1ms/step - loss: 24.2236\n",
      "Epoch 220/250\n",
      "22/22 [==============================] - 0s 1ms/step - loss: 24.3424\n",
      "Epoch 221/250\n",
      "22/22 [==============================] - 0s 997us/step - loss: 24.1371\n",
      "Epoch 222/250\n",
      "22/22 [==============================] - 0s 907us/step - loss: 24.3154\n",
      "Epoch 223/250\n",
      "22/22 [==============================] - 0s 861us/step - loss: 24.6549\n",
      "Epoch 224/250\n",
      "22/22 [==============================] - 0s 1ms/step - loss: 23.8157\n",
      "Epoch 225/250\n",
      "22/22 [==============================] - 0s 997us/step - loss: 24.4599\n",
      "Epoch 226/250\n",
      "22/22 [==============================] - 0s 770us/step - loss: 24.4594\n",
      "Epoch 227/250\n",
      "22/22 [==============================] - 0s 770us/step - loss: 24.0650\n",
      "Epoch 228/250\n",
      "22/22 [==============================] - 0s 816us/step - loss: 24.0627\n",
      "Epoch 229/250\n",
      "22/22 [==============================] - 0s 725us/step - loss: 24.3378\n",
      "Epoch 230/250\n",
      "22/22 [==============================] - 0s 770us/step - loss: 23.9894\n",
      "Epoch 231/250\n",
      "22/22 [==============================] - 0s 689us/step - loss: 23.9760\n",
      "Epoch 232/250\n",
      "22/22 [==============================] - 0s 725us/step - loss: 24.0900\n",
      "Epoch 233/250\n",
      "22/22 [==============================] - 0s 680us/step - loss: 24.1468\n",
      "Epoch 234/250\n",
      "22/22 [==============================] - 0s 681us/step - loss: 24.4673\n",
      "Epoch 235/250\n",
      "22/22 [==============================] - 0s 590us/step - loss: 24.2972\n",
      "Epoch 236/250\n",
      "22/22 [==============================] - 0s 635us/step - loss: 24.1635\n",
      "Epoch 237/250\n",
      "22/22 [==============================] - 0s 725us/step - loss: 24.4808\n",
      "Epoch 238/250\n",
      "22/22 [==============================] - 0s 725us/step - loss: 24.0847\n",
      "Epoch 239/250\n",
      "22/22 [==============================] - 0s 680us/step - loss: 24.3511\n",
      "Epoch 240/250\n",
      "22/22 [==============================] - 0s 680us/step - loss: 24.2897\n",
      "Epoch 241/250\n",
      "22/22 [==============================] - 0s 618us/step - loss: 24.0874\n",
      "Epoch 242/250\n",
      "22/22 [==============================] - 0s 681us/step - loss: 24.2506\n",
      "Epoch 243/250\n",
      "22/22 [==============================] - 0s 680us/step - loss: 24.2970\n",
      "Epoch 244/250\n",
      "22/22 [==============================] - 0s 635us/step - loss: 24.1396\n",
      "Epoch 245/250\n",
      "22/22 [==============================] - 0s 633us/step - loss: 24.0957\n",
      "Epoch 246/250\n",
      "22/22 [==============================] - 0s 669us/step - loss: 24.2069\n",
      "Epoch 247/250\n",
      "22/22 [==============================] - 0s 680us/step - loss: 24.2974\n",
      "Epoch 248/250\n",
      "22/22 [==============================] - 0s 635us/step - loss: 24.3428\n",
      "Epoch 249/250\n",
      "22/22 [==============================] - 0s 725us/step - loss: 24.1003\n",
      "Epoch 250/250\n",
      "22/22 [==============================] - 0s 771us/step - loss: 24.4562\n"
     ]
    },
    {
     "data": {
      "text/plain": [
       "<tensorflow.python.keras.callbacks.History at 0x17d2a671e08>"
      ]
     },
     "execution_count": 95,
     "metadata": {},
     "output_type": "execute_result"
    }
   ],
   "source": [
    "model.fit(x=X_train, y=y_train, epochs=250)"
   ]
  },
  {
   "cell_type": "code",
   "execution_count": 96,
   "metadata": {},
   "outputs": [
    {
     "data": {
      "text/plain": [
       "{'loss': [256595.84375,\n",
       "  256410.0625,\n",
       "  256193.734375,\n",
       "  255943.125,\n",
       "  255671.203125,\n",
       "  255380.5,\n",
       "  255066.765625,\n",
       "  254722.3125,\n",
       "  254342.78125,\n",
       "  253923.703125,\n",
       "  253468.484375,\n",
       "  252969.296875,\n",
       "  252425.9375,\n",
       "  251836.546875,\n",
       "  251196.40625,\n",
       "  250506.265625,\n",
       "  249761.546875,\n",
       "  248955.8125,\n",
       "  248088.09375,\n",
       "  247159.859375,\n",
       "  246156.578125,\n",
       "  245071.203125,\n",
       "  243899.46875,\n",
       "  242644.9375,\n",
       "  241301.625,\n",
       "  239867.046875,\n",
       "  238334.625,\n",
       "  236693.515625,\n",
       "  234969.125,\n",
       "  233140.65625,\n",
       "  231204.796875,\n",
       "  229164.09375,\n",
       "  227000.1875,\n",
       "  224728.0625,\n",
       "  222346.5625,\n",
       "  219844.28125,\n",
       "  217211.15625,\n",
       "  214464.734375,\n",
       "  211603.125,\n",
       "  208589.4375,\n",
       "  205455.34375,\n",
       "  202190.078125,\n",
       "  198795.171875,\n",
       "  195260.984375,\n",
       "  191590.984375,\n",
       "  187791.390625,\n",
       "  183855.453125,\n",
       "  179761.9375,\n",
       "  175567.046875,\n",
       "  171254.328125,\n",
       "  166796.9375,\n",
       "  162211.390625,\n",
       "  157490.453125,\n",
       "  152648.390625,\n",
       "  147706.671875,\n",
       "  142675.796875,\n",
       "  137513.25,\n",
       "  132269.046875,\n",
       "  126886.765625,\n",
       "  121440.90625,\n",
       "  115929.1796875,\n",
       "  110350.546875,\n",
       "  104720.296875,\n",
       "  99043.9921875,\n",
       "  93349.953125,\n",
       "  87640.6015625,\n",
       "  81932.7734375,\n",
       "  76216.9921875,\n",
       "  70546.96875,\n",
       "  64939.83984375,\n",
       "  59398.96484375,\n",
       "  53959.8671875,\n",
       "  48598.7890625,\n",
       "  43423.09765625,\n",
       "  38397.20703125,\n",
       "  33574.15625,\n",
       "  28982.951171875,\n",
       "  24655.60546875,\n",
       "  20586.693359375,\n",
       "  16815.82421875,\n",
       "  13455.685546875,\n",
       "  10478.8095703125,\n",
       "  7882.37060546875,\n",
       "  5758.26171875,\n",
       "  4122.41357421875,\n",
       "  2961.404541015625,\n",
       "  2277.7900390625,\n",
       "  2004.19140625,\n",
       "  1945.419677734375,\n",
       "  1915.2874755859375,\n",
       "  1880.535400390625,\n",
       "  1846.2998046875,\n",
       "  1815.5126953125,\n",
       "  1782.9566650390625,\n",
       "  1752.3282470703125,\n",
       "  1719.8209228515625,\n",
       "  1691.4071044921875,\n",
       "  1656.5594482421875,\n",
       "  1621.44677734375,\n",
       "  1590.2823486328125,\n",
       "  1559.6011962890625,\n",
       "  1530.691650390625,\n",
       "  1500.6160888671875,\n",
       "  1472.063232421875,\n",
       "  1439.5174560546875,\n",
       "  1407.82421875,\n",
       "  1375.71826171875,\n",
       "  1347.833740234375,\n",
       "  1315.56201171875,\n",
       "  1284.5540771484375,\n",
       "  1255.301025390625,\n",
       "  1224.1011962890625,\n",
       "  1198.1064453125,\n",
       "  1169.8299560546875,\n",
       "  1142.360595703125,\n",
       "  1113.0506591796875,\n",
       "  1087.0220947265625,\n",
       "  1063.584228515625,\n",
       "  1037.2164306640625,\n",
       "  1010.6375732421875,\n",
       "  980.1935424804688,\n",
       "  953.10595703125,\n",
       "  927.065185546875,\n",
       "  900.6062622070312,\n",
       "  875.0044555664062,\n",
       "  850.5446166992188,\n",
       "  827.629638671875,\n",
       "  802.2919921875,\n",
       "  778.243408203125,\n",
       "  752.0048217773438,\n",
       "  729.895751953125,\n",
       "  706.844970703125,\n",
       "  684.8998413085938,\n",
       "  664.3035888671875,\n",
       "  642.0309448242188,\n",
       "  619.2989501953125,\n",
       "  598.801025390625,\n",
       "  578.3033447265625,\n",
       "  558.873046875,\n",
       "  537.2055053710938,\n",
       "  518.2421264648438,\n",
       "  498.7475891113281,\n",
       "  479.9488830566406,\n",
       "  461.2846984863281,\n",
       "  443.5308532714844,\n",
       "  425.07476806640625,\n",
       "  406.9000549316406,\n",
       "  389.4024658203125,\n",
       "  374.2646179199219,\n",
       "  358.2635192871094,\n",
       "  340.6184997558594,\n",
       "  323.4895935058594,\n",
       "  306.6899719238281,\n",
       "  291.934326171875,\n",
       "  277.6953430175781,\n",
       "  262.1891174316406,\n",
       "  248.3122100830078,\n",
       "  235.88917541503906,\n",
       "  223.75665283203125,\n",
       "  212.5896453857422,\n",
       "  199.2018280029297,\n",
       "  187.9696807861328,\n",
       "  176.10093688964844,\n",
       "  164.5453643798828,\n",
       "  153.41250610351562,\n",
       "  144.06480407714844,\n",
       "  134.87030029296875,\n",
       "  127.15193939208984,\n",
       "  118.01307678222656,\n",
       "  110.41409301757812,\n",
       "  102.86363983154297,\n",
       "  96.52314758300781,\n",
       "  90.54705810546875,\n",
       "  85.13633728027344,\n",
       "  79.09642791748047,\n",
       "  72.68628692626953,\n",
       "  67.11495208740234,\n",
       "  61.950313568115234,\n",
       "  57.154056549072266,\n",
       "  52.963191986083984,\n",
       "  50.1651611328125,\n",
       "  46.566490173339844,\n",
       "  42.98204040527344,\n",
       "  40.63628387451172,\n",
       "  38.06352996826172,\n",
       "  36.286407470703125,\n",
       "  34.91071701049805,\n",
       "  32.664859771728516,\n",
       "  31.62874412536621,\n",
       "  30.41016387939453,\n",
       "  28.713781356811523,\n",
       "  28.280948638916016,\n",
       "  27.854774475097656,\n",
       "  26.981494903564453,\n",
       "  26.62636375427246,\n",
       "  26.58826446533203,\n",
       "  25.869050979614258,\n",
       "  25.76089096069336,\n",
       "  25.275541305541992,\n",
       "  25.286378860473633,\n",
       "  24.92344093322754,\n",
       "  24.96955680847168,\n",
       "  24.81513023376465,\n",
       "  24.741477966308594,\n",
       "  24.381986618041992,\n",
       "  24.5557918548584,\n",
       "  24.523822784423828,\n",
       "  24.394453048706055,\n",
       "  24.469696044921875,\n",
       "  24.24677085876465,\n",
       "  24.652584075927734,\n",
       "  24.05099868774414,\n",
       "  24.375228881835938,\n",
       "  24.525259017944336,\n",
       "  24.37525177001953,\n",
       "  24.317045211791992,\n",
       "  23.98114585876465,\n",
       "  24.23944664001465,\n",
       "  24.2236385345459,\n",
       "  24.34244728088379,\n",
       "  24.137062072753906,\n",
       "  24.315448760986328,\n",
       "  24.654855728149414,\n",
       "  23.815719604492188,\n",
       "  24.459871292114258,\n",
       "  24.459402084350586,\n",
       "  24.06497573852539,\n",
       "  24.062747955322266,\n",
       "  24.337825775146484,\n",
       "  23.9893741607666,\n",
       "  23.97602081298828,\n",
       "  24.089950561523438,\n",
       "  24.146757125854492,\n",
       "  24.46733856201172,\n",
       "  24.297225952148438,\n",
       "  24.163482666015625,\n",
       "  24.48080062866211,\n",
       "  24.084726333618164,\n",
       "  24.351055145263672,\n",
       "  24.28969383239746,\n",
       "  24.087385177612305,\n",
       "  24.25058364868164,\n",
       "  24.297006607055664,\n",
       "  24.139629364013672,\n",
       "  24.095684051513672,\n",
       "  24.20693016052246,\n",
       "  24.297443389892578,\n",
       "  24.34283447265625,\n",
       "  24.100345611572266,\n",
       "  24.4561824798584]}"
      ]
     },
     "execution_count": 96,
     "metadata": {},
     "output_type": "execute_result"
    }
   ],
   "source": [
    "model.history.history"
   ]
  },
  {
   "cell_type": "code",
   "execution_count": 97,
   "metadata": {},
   "outputs": [],
   "source": [
    "loss_df = pd.DataFrame(model.history.history)"
   ]
  },
  {
   "cell_type": "code",
   "execution_count": 98,
   "metadata": {},
   "outputs": [
    {
     "data": {
      "text/plain": [
       "<matplotlib.axes._subplots.AxesSubplot at 0x17d2920bc88>"
      ]
     },
     "execution_count": 98,
     "metadata": {},
     "output_type": "execute_result"
    },
    {
     "data": {
      "image/png": "[encoded data removed]",
      "text/plain": [
       "<Figure size 432x288 with 1 Axes>"
      ]
     },
     "metadata": {
      "needs_background": "light"
     },
     "output_type": "display_data"
    }
   ],
   "source": [
    "loss_df.plot()"
   ]
  },
  {
   "cell_type": "code",
   "execution_count": 99,
   "metadata": {},
   "outputs": [
    {
     "data": {
      "text/plain": [
       "25.5743465423584"
      ]
     },
     "execution_count": 99,
     "metadata": {},
     "output_type": "execute_result"
    }
   ],
   "source": [
    "model.evaluate(X_test,y_test,verbose=0)"
   ]
  },
  {
   "cell_type": "code",
   "execution_count": 100,
   "metadata": {},
   "outputs": [
    {
     "data": {
      "text/plain": [
       "23.846364974975586"
      ]
     },
     "execution_count": 100,
     "metadata": {},
     "output_type": "execute_result"
    }
   ],
   "source": [
    "model.evaluate(X_train,y_train,verbose=0)"
   ]
  },
  {
   "cell_type": "code",
   "execution_count": 101,
   "metadata": {},
   "outputs": [],
   "source": [
    "test_predictions = model.predict(X_test)"
   ]
  },
  {
   "cell_type": "code",
   "execution_count": 102,
   "metadata": {},
   "outputs": [
    {
     "data": {
      "text/plain": [
       "array([[405.78854],\n",
       "       [624.40454],\n",
       "       [592.9453 ],\n",
       "       [573.002  ],\n",
       "       [367.04462],\n",
       "       [579.969  ],\n",
       "       [515.7299 ],\n",
       "       [459.69913],\n",
       "       [549.98254],\n",
       "       [448.09235],\n",
       "       [612.63116],\n",
       "       [549.6914 ],\n",
       "       [419.6215 ],\n",
       "       [409.37332],\n",
       "       [652.1595 ],\n",
       "       [437.85358],\n",
       "       [509.12915],\n",
       "       [660.8527 ],\n",
       "       [663.512  ],\n",
       "       [566.3076 ],\n",
       "       [334.60434],\n",
       "       [445.3988 ],\n",
       "       [382.985  ],\n",
       "       [379.2097 ],\n",
       "       [567.36444],\n",
       "       [611.4326 ],\n",
       "       [533.1022 ],\n",
       "       [428.39767],\n",
       "       [656.35956],\n",
       "       [414.59753],\n",
       "       [443.20013],\n",
       "       [485.76096],\n",
       "       [438.96942],\n",
       "       [682.8088 ],\n",
       "       [425.29337],\n",
       "       [418.20355],\n",
       "       [502.5949 ],\n",
       "       [551.2186 ],\n",
       "       [510.40335],\n",
       "       [395.83398],\n",
       "       [619.4495 ],\n",
       "       [417.1482 ],\n",
       "       [605.28375],\n",
       "       [446.53146],\n",
       "       [502.65042],\n",
       "       [582.5175 ],\n",
       "       [669.94745],\n",
       "       [491.04706],\n",
       "       [318.93527],\n",
       "       [486.06036],\n",
       "       [517.9525 ],\n",
       "       [382.2543 ],\n",
       "       [542.6417 ],\n",
       "       [409.09988],\n",
       "       [642.4173 ],\n",
       "       [491.7194 ],\n",
       "       [628.8132 ],\n",
       "       [627.87726],\n",
       "       [447.64114],\n",
       "       [485.33444],\n",
       "       [491.77875],\n",
       "       [475.1579 ],\n",
       "       [683.7553 ],\n",
       "       [403.78363],\n",
       "       [702.1333 ],\n",
       "       [587.2021 ],\n",
       "       [583.9211 ],\n",
       "       [538.58075],\n",
       "       [485.2092 ],\n",
       "       [517.24634],\n",
       "       [361.65137],\n",
       "       [541.4835 ],\n",
       "       [571.4063 ],\n",
       "       [529.16907],\n",
       "       [454.3043 ],\n",
       "       [531.8549 ],\n",
       "       [507.88354],\n",
       "       [443.8989 ],\n",
       "       [544.09985],\n",
       "       [641.65295],\n",
       "       [466.6116 ],\n",
       "       [568.03345],\n",
       "       [691.74945],\n",
       "       [459.32584],\n",
       "       [709.92145],\n",
       "       [473.31152],\n",
       "       [403.779  ],\n",
       "       [585.90674],\n",
       "       [437.3133 ],\n",
       "       [489.60663],\n",
       "       [617.8953 ],\n",
       "       [440.03723],\n",
       "       [455.91318],\n",
       "       [435.811  ],\n",
       "       [507.58362],\n",
       "       [609.29034],\n",
       "       [321.99033],\n",
       "       [436.82568],\n",
       "       [537.0654 ],\n",
       "       [519.3264 ],\n",
       "       [605.8886 ],\n",
       "       [526.15094],\n",
       "       [334.5188 ],\n",
       "       [576.95557],\n",
       "       [432.3292 ],\n",
       "       [563.3231 ],\n",
       "       [514.0899 ],\n",
       "       [391.56274],\n",
       "       [567.0236 ],\n",
       "       [455.38547],\n",
       "       [449.06046],\n",
       "       [641.8598 ],\n",
       "       [525.0799 ],\n",
       "       [551.43555],\n",
       "       [418.2172 ],\n",
       "       [479.36743],\n",
       "       [587.3305 ],\n",
       "       [668.31836],\n",
       "       [701.45984],\n",
       "       [660.32214],\n",
       "       [561.3298 ],\n",
       "       [503.84305],\n",
       "       [390.83264],\n",
       "       [281.63547],\n",
       "       [480.24335],\n",
       "       [617.2307 ],\n",
       "       [373.76398],\n",
       "       [512.9448 ],\n",
       "       [511.70813],\n",
       "       [494.13766],\n",
       "       [481.0897 ],\n",
       "       [424.32422],\n",
       "       [494.10962],\n",
       "       [472.0868 ],\n",
       "       [601.2808 ],\n",
       "       [574.37006],\n",
       "       [415.4847 ],\n",
       "       [631.5305 ],\n",
       "       [466.97928],\n",
       "       [565.1099 ],\n",
       "       [406.19128],\n",
       "       [532.8931 ],\n",
       "       [573.4223 ],\n",
       "       [357.50024],\n",
       "       [550.58356],\n",
       "       [604.19446],\n",
       "       [384.77084],\n",
       "       [543.1276 ],\n",
       "       [563.3644 ],\n",
       "       [453.4706 ],\n",
       "       [633.09186],\n",
       "       [372.7014 ],\n",
       "       [474.87366],\n",
       "       [529.5811 ],\n",
       "       [372.7491 ],\n",
       "       [461.83588],\n",
       "       [436.86844],\n",
       "       [499.15698],\n",
       "       [346.51917],\n",
       "       [395.77893],\n",
       "       [605.4237 ],\n",
       "       [507.33035],\n",
       "       [469.22595],\n",
       "       [491.01593],\n",
       "       [536.0052 ],\n",
       "       [344.9005 ],\n",
       "       [513.01154],\n",
       "       [251.04688],\n",
       "       [504.75943],\n",
       "       [541.8357 ],\n",
       "       [490.0177 ],\n",
       "       [471.70505],\n",
       "       [393.03183],\n",
       "       [416.77863],\n",
       "       [550.3258 ],\n",
       "       [476.41745],\n",
       "       [580.7476 ],\n",
       "       [490.41858],\n",
       "       [601.8204 ],\n",
       "       [547.74207],\n",
       "       [542.69977],\n",
       "       [501.2484 ],\n",
       "       [646.7486 ],\n",
       "       [561.1845 ],\n",
       "       [578.73663],\n",
       "       [444.7024 ],\n",
       "       [416.04224],\n",
       "       [420.5666 ],\n",
       "       [569.90643],\n",
       "       [609.8617 ],\n",
       "       [438.3183 ],\n",
       "       [488.61633],\n",
       "       [588.5653 ],\n",
       "       [526.0904 ],\n",
       "       [357.788  ],\n",
       "       [646.32916],\n",
       "       [528.74695],\n",
       "       [337.60257],\n",
       "       [493.3449 ],\n",
       "       [410.6695 ],\n",
       "       [607.4477 ],\n",
       "       [346.94043],\n",
       "       [523.1221 ],\n",
       "       [405.19424],\n",
       "       [258.6711 ],\n",
       "       [520.59576],\n",
       "       [341.2935 ],\n",
       "       [362.4791 ],\n",
       "       [577.2147 ],\n",
       "       [417.20013],\n",
       "       [551.73914],\n",
       "       [521.7856 ],\n",
       "       [511.4418 ],\n",
       "       [325.1207 ],\n",
       "       [404.65405],\n",
       "       [603.23914],\n",
       "       [618.72546],\n",
       "       [604.11017],\n",
       "       [567.0696 ],\n",
       "       [474.0475 ],\n",
       "       [460.96756],\n",
       "       [509.11212],\n",
       "       [446.47787],\n",
       "       [511.99945],\n",
       "       [503.0475 ],\n",
       "       [400.63522],\n",
       "       [606.3734 ],\n",
       "       [258.39233],\n",
       "       [629.1361 ],\n",
       "       [589.9524 ],\n",
       "       [327.52072],\n",
       "       [480.17947],\n",
       "       [596.17316],\n",
       "       [378.85617],\n",
       "       [460.75235],\n",
       "       [325.37924],\n",
       "       [519.391  ],\n",
       "       [410.1314 ],\n",
       "       [557.01074],\n",
       "       [642.7972 ],\n",
       "       [537.5518 ],\n",
       "       [503.8489 ],\n",
       "       [635.93353],\n",
       "       [515.9332 ],\n",
       "       [532.4277 ],\n",
       "       [519.5211 ],\n",
       "       [458.03375],\n",
       "       [506.5042 ],\n",
       "       [461.70575],\n",
       "       [592.5229 ],\n",
       "       [466.51904],\n",
       "       [427.72302],\n",
       "       [542.32764],\n",
       "       [494.45642],\n",
       "       [680.63336],\n",
       "       [373.21674],\n",
       "       [552.364  ],\n",
       "       [578.7638 ],\n",
       "       [434.51816],\n",
       "       [543.76227],\n",
       "       [586.8117 ],\n",
       "       [580.0484 ],\n",
       "       [721.97974],\n",
       "       [433.29294],\n",
       "       [399.08856],\n",
       "       [314.3587 ],\n",
       "       [448.85898],\n",
       "       [388.5635 ],\n",
       "       [543.94226],\n",
       "       [523.43915],\n",
       "       [565.26416],\n",
       "       [448.59134],\n",
       "       [535.13306],\n",
       "       [382.25476],\n",
       "       [502.1834 ],\n",
       "       [638.00226],\n",
       "       [497.21027],\n",
       "       [569.1711 ],\n",
       "       [470.7242 ],\n",
       "       [273.5918 ],\n",
       "       [518.0573 ],\n",
       "       [622.27106],\n",
       "       [350.9241 ],\n",
       "       [451.02432],\n",
       "       [499.9522 ],\n",
       "       [543.7116 ],\n",
       "       [612.6815 ],\n",
       "       [388.65002],\n",
       "       [449.97675],\n",
       "       [483.04828],\n",
       "       [599.1461 ],\n",
       "       [500.04306],\n",
       "       [321.819  ],\n",
       "       [555.9032 ],\n",
       "       [445.2017 ],\n",
       "       [529.74884],\n",
       "       [516.0053 ],\n",
       "       [610.49396],\n",
       "       [417.47617],\n",
       "       [411.3817 ]], dtype=float32)"
      ]
     },
     "execution_count": 102,
     "metadata": {},
     "output_type": "execute_result"
    }
   ],
   "source": [
    "test_predictions"
   ]
  },
  {
   "cell_type": "code",
   "execution_count": 103,
   "metadata": {},
   "outputs": [],
   "source": [
    "test_predictions = pd.Series(test_predictions.reshape(300,))"
   ]
  },
  {
   "cell_type": "code",
   "execution_count": 104,
   "metadata": {},
   "outputs": [
    {
     "data": {
      "text/plain": [
       "0      405.788544\n",
       "1      624.404541\n",
       "2      592.945312\n",
       "3      573.002014\n",
       "4      367.044617\n",
       "          ...    \n",
       "295    529.748840\n",
       "296    516.005310\n",
       "297    610.493958\n",
       "298    417.476166\n",
       "299    411.381714\n",
       "Length: 300, dtype: float32"
      ]
     },
     "execution_count": 104,
     "metadata": {},
     "output_type": "execute_result"
    }
   ],
   "source": [
    "test_predictions"
   ]
  },
  {
   "cell_type": "code",
   "execution_count": 105,
   "metadata": {},
   "outputs": [],
   "source": [
    "pred_df = pd.DataFrame(y_test,columns=['Test True Y'])"
   ]
  },
  {
   "cell_type": "code",
   "execution_count": 106,
   "metadata": {},
   "outputs": [],
   "source": [
    "pred_df = pd.concat([pred_df,test_predictions],axis=1)"
   ]
  },
  {
   "cell_type": "code",
   "execution_count": 107,
   "metadata": {},
   "outputs": [],
   "source": [
    "pred_df.columns = ['Test True Y','Model Predictions']"
   ]
  },
  {
   "cell_type": "code",
   "execution_count": 108,
   "metadata": {
    "scrolled": true
   },
   "outputs": [
    {
     "data": {
      "text/plain": [
       "<matplotlib.axes._subplots.AxesSubplot at 0x17d2bda3b48>"
      ]
     },
     "execution_count": 108,
     "metadata": {},
     "output_type": "execute_result"
    },
    {
     "data": {
      "image/png": "[encoded data removed]",
      "text/plain": [
       "<Figure size 432x288 with 1 Axes>"
      ]
     },
     "metadata": {
      "needs_background": "light"
     },
     "output_type": "display_data"
    }
   ],
   "source": [
    "sns.scatterplot(x='Test True Y', y='Model Predictions',data=pred_df)"
   ]
  },
  {
   "cell_type": "code",
   "execution_count": 109,
   "metadata": {},
   "outputs": [],
   "source": [
    "from sklearn.metrics import mean_absolute_error,mean_squared_error"
   ]
  },
  {
   "cell_type": "code",
   "execution_count": 110,
   "metadata": {},
   "outputs": [
    {
     "data": {
      "text/plain": [
       "4.076776832457439"
      ]
     },
     "execution_count": 110,
     "metadata": {},
     "output_type": "execute_result"
    }
   ],
   "source": [
    "mean_absolute_error(pred_df['Test True Y'],pred_df['Model Predictions'])"
   ]
  },
  {
   "cell_type": "code",
   "execution_count": 111,
   "metadata": {},
   "outputs": [
    {
     "data": {
      "text/html": [
       "<div>\n",
       "<style scoped>\n",
       "    .dataframe tbody tr th:only-of-type {\n",
       "        vertical-align: middle;\n",
       "    }\n",
       "\n",
       "    .dataframe tbody tr th {\n",
       "        vertical-align: top;\n",
       "    }\n",
       "\n",
       "    .dataframe thead th {\n",
       "        text-align: right;\n",
       "    }\n",
       "</style>\n",
       "<table border=\"1\" class=\"dataframe\">\n",
       "  <thead>\n",
       "    <tr style=\"text-align: right;\">\n",
       "      <th></th>\n",
       "      <th>price</th>\n",
       "      <th>feature1</th>\n",
       "      <th>feature2</th>\n",
       "    </tr>\n",
       "  </thead>\n",
       "  <tbody>\n",
       "    <tr>\n",
       "      <td>count</td>\n",
       "      <td>1000.000000</td>\n",
       "      <td>1000.000000</td>\n",
       "      <td>1000.000000</td>\n",
       "    </tr>\n",
       "    <tr>\n",
       "      <td>mean</td>\n",
       "      <td>498.673029</td>\n",
       "      <td>1000.014171</td>\n",
       "      <td>999.979847</td>\n",
       "    </tr>\n",
       "    <tr>\n",
       "      <td>std</td>\n",
       "      <td>93.785431</td>\n",
       "      <td>0.974018</td>\n",
       "      <td>0.948330</td>\n",
       "    </tr>\n",
       "    <tr>\n",
       "      <td>min</td>\n",
       "      <td>223.346793</td>\n",
       "      <td>997.058347</td>\n",
       "      <td>996.995651</td>\n",
       "    </tr>\n",
       "    <tr>\n",
       "      <td>25%</td>\n",
       "      <td>433.025732</td>\n",
       "      <td>999.332068</td>\n",
       "      <td>999.316106</td>\n",
       "    </tr>\n",
       "    <tr>\n",
       "      <td>50%</td>\n",
       "      <td>502.382117</td>\n",
       "      <td>1000.009915</td>\n",
       "      <td>1000.002243</td>\n",
       "    </tr>\n",
       "    <tr>\n",
       "      <td>75%</td>\n",
       "      <td>564.921588</td>\n",
       "      <td>1000.637580</td>\n",
       "      <td>1000.645380</td>\n",
       "    </tr>\n",
       "    <tr>\n",
       "      <td>max</td>\n",
       "      <td>774.407854</td>\n",
       "      <td>1003.207934</td>\n",
       "      <td>1002.666308</td>\n",
       "    </tr>\n",
       "  </tbody>\n",
       "</table>\n",
       "</div>"
      ],
      "text/plain": [
       "             price     feature1     feature2\n",
       "count  1000.000000  1000.000000  1000.000000\n",
       "mean    498.673029  1000.014171   999.979847\n",
       "std      93.785431     0.974018     0.948330\n",
       "min     223.346793   997.058347   996.995651\n",
       "25%     433.025732   999.332068   999.316106\n",
       "50%     502.382117  1000.009915  1000.002243\n",
       "75%     564.921588  1000.637580  1000.645380\n",
       "max     774.407854  1003.207934  1002.666308"
      ]
     },
     "execution_count": 111,
     "metadata": {},
     "output_type": "execute_result"
    }
   ],
   "source": [
    "df.describe()"
   ]
  },
  {
   "cell_type": "code",
   "execution_count": 112,
   "metadata": {},
   "outputs": [
    {
     "data": {
      "text/plain": [
       "25.574346651873007"
      ]
     },
     "execution_count": 112,
     "metadata": {},
     "output_type": "execute_result"
    }
   ],
   "source": [
    "mean_squared_error(pred_df['Test True Y'],pred_df['Model Predictions'])"
   ]
  },
  {
   "cell_type": "code",
   "execution_count": 113,
   "metadata": {},
   "outputs": [],
   "source": [
    "# prediction on brand new data"
   ]
  },
  {
   "cell_type": "code",
   "execution_count": 114,
   "metadata": {},
   "outputs": [],
   "source": [
    "new_gem = [[998,1000]]"
   ]
  },
  {
   "cell_type": "code",
   "execution_count": 115,
   "metadata": {},
   "outputs": [],
   "source": [
    "new_gem = scaler.transform(new_gem)"
   ]
  },
  {
   "cell_type": "code",
   "execution_count": 116,
   "metadata": {},
   "outputs": [
    {
     "data": {
      "text/plain": [
       "array([[0.14117652, 0.53968792]])"
      ]
     },
     "execution_count": 116,
     "metadata": {},
     "output_type": "execute_result"
    }
   ],
   "source": [
    "new_gem"
   ]
  },
  {
   "cell_type": "code",
   "execution_count": 117,
   "metadata": {},
   "outputs": [
    {
     "data": {
      "text/plain": [
       "array([[420.20416]], dtype=float32)"
      ]
     },
     "execution_count": 117,
     "metadata": {},
     "output_type": "execute_result"
    }
   ],
   "source": [
    "model.predict(new_gem)"
   ]
  },
  {
   "cell_type": "code",
   "execution_count": null,
   "metadata": {},
   "outputs": [],
   "source": []
  },
  {
   "cell_type": "code",
   "execution_count": 118,
   "metadata": {},
   "outputs": [],
   "source": [
    "# complex model SAVE & LOAD"
   ]
  },
  {
   "cell_type": "code",
   "execution_count": 119,
   "metadata": {},
   "outputs": [],
   "source": [
    "from tensorflow.keras.models import load_model"
   ]
  },
  {
   "cell_type": "code",
   "execution_count": 120,
   "metadata": {},
   "outputs": [],
   "source": [
    "model.save('my_gem_model.h5')"
   ]
  },
  {
   "cell_type": "code",
   "execution_count": 121,
   "metadata": {},
   "outputs": [],
   "source": [
    "later_model = load_model('my_gem_model.h5')"
   ]
  },
  {
   "cell_type": "code",
   "execution_count": 122,
   "metadata": {},
   "outputs": [
    {
     "data": {
      "text/plain": [
       "array([[420.20416]], dtype=float32)"
      ]
     },
     "execution_count": 122,
     "metadata": {},
     "output_type": "execute_result"
    }
   ],
   "source": [
    "later_model.predict(new_gem)"
   ]
  },
  {
   "cell_type": "code",
   "execution_count": null,
   "metadata": {},
   "outputs": [],
   "source": []
  }
 ],
 "metadata": {
  "kernelspec": {
   "display_name": "Python 3",
   "language": "python",
   "name": "python3"
  },
  "language_info": {
   "codemirror_mode": {
    "name": "ipython",
    "version": 3
   },
   "file_extension": ".py",
   "mimetype": "text/x-python",
   "name": "python",
   "nbconvert_exporter": "python",
   "pygments_lexer": "ipython3",
   "version": "3.7.4"
  }
 },
 "nbformat": 4,
 "nbformat_minor": 2
}
