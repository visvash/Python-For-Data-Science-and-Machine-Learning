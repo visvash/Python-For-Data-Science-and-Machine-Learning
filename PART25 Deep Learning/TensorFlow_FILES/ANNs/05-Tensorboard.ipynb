{
 "cells": [
  {
   "cell_type": "markdown",
   "metadata": {},
   "source": [
    "<a href=\"https://www.pieriandata.com\"><img src=\"../Pierian_Data_Logo.PNG\"></a>\n",
    "<strong><center>Copyright by Pierian Data Inc.</center></strong> \n",
    "<strong><center>Created by Jose Marcial Portilla.</center></strong>"
   ]
  },
  {
   "cell_type": "markdown",
   "metadata": {},
   "source": [
    "# Tensorboard\n",
    "\n",
    "---\n",
    "---\n",
    "\n",
    "**NOTE: You must watch the corresponding video to understand this lecture. This notebook can't serve as a full guide. Please watch the video BEFORE posting questions to the QA forum.**\n",
    "\n",
    "---\n",
    "---\n",
    "\n",
    "Let's explore the built in data visualization capabilities that come with Tensorboard.\n",
    "\n",
    "Full official tutorial available here: https://www.tensorflow.org/tensorboard/get_started\n",
    "\n",
    "## Data"
   ]
  },
  {
   "cell_type": "code",
   "execution_count": 2,
   "metadata": {},
   "outputs": [],
   "source": [
    "import pandas as pd\n",
    "import numpy as np"
   ]
  },
  {
   "cell_type": "code",
   "execution_count": 3,
   "metadata": {},
   "outputs": [],
   "source": [
    "df = pd.read_csv('../DATA/cancer_classification.csv')"
   ]
  },
  {
   "cell_type": "markdown",
   "metadata": {},
   "source": [
    "### Train Test Split"
   ]
  },
  {
   "cell_type": "code",
   "execution_count": 4,
   "metadata": {},
   "outputs": [],
   "source": [
    "X = df.drop('benign_0__mal_1',axis=1).values\n",
    "y = df['benign_0__mal_1'].values"
   ]
  },
  {
   "cell_type": "code",
   "execution_count": 5,
   "metadata": {},
   "outputs": [],
   "source": [
    "from sklearn.model_selection import train_test_split"
   ]
  },
  {
   "cell_type": "code",
   "execution_count": 6,
   "metadata": {},
   "outputs": [],
   "source": [
    "X_train, X_test, y_train, y_test = train_test_split(X,y,test_size=0.25,random_state=101)"
   ]
  },
  {
   "cell_type": "markdown",
   "metadata": {},
   "source": [
    "\n",
    "### Scaling Data"
   ]
  },
  {
   "cell_type": "code",
   "execution_count": 7,
   "metadata": {},
   "outputs": [],
   "source": [
    "from sklearn.preprocessing import MinMaxScaler"
   ]
  },
  {
   "cell_type": "code",
   "execution_count": 8,
   "metadata": {},
   "outputs": [],
   "source": [
    "scaler = MinMaxScaler()"
   ]
  },
  {
   "cell_type": "code",
   "execution_count": 9,
   "metadata": {},
   "outputs": [
    {
     "data": {
      "text/plain": [
       "MinMaxScaler(copy=True, feature_range=(0, 1))"
      ]
     },
     "execution_count": 9,
     "metadata": {},
     "output_type": "execute_result"
    }
   ],
   "source": [
    "scaler.fit(X_train)"
   ]
  },
  {
   "cell_type": "code",
   "execution_count": 10,
   "metadata": {},
   "outputs": [],
   "source": [
    "X_train = scaler.transform(X_train)\n",
    "X_test = scaler.transform(X_test)"
   ]
  },
  {
   "cell_type": "markdown",
   "metadata": {},
   "source": [
    "## Creating the Model"
   ]
  },
  {
   "cell_type": "code",
   "execution_count": 11,
   "metadata": {},
   "outputs": [],
   "source": [
    "import tensorflow as tf\n",
    "from tensorflow.keras.models import Sequential\n",
    "from tensorflow.keras.layers import Dense, Activation,Dropout"
   ]
  },
  {
   "cell_type": "code",
   "execution_count": 12,
   "metadata": {},
   "outputs": [],
   "source": [
    "from tensorflow.keras.callbacks import EarlyStopping,TensorBoard"
   ]
  },
  {
   "cell_type": "code",
   "execution_count": 13,
   "metadata": {},
   "outputs": [],
   "source": [
    "early_stop = EarlyStopping(monitor='val_loss', mode='min', verbose=1, patience=25)"
   ]
  },
  {
   "cell_type": "code",
   "execution_count": 14,
   "metadata": {},
   "outputs": [
    {
     "data": {
      "text/plain": [
       "'C:\\\\Users\\\\Visvash Attri\\\\Deep Learning\\\\TensorFlow_FILES\\\\ANNs'"
      ]
     },
     "execution_count": 14,
     "metadata": {},
     "output_type": "execute_result"
    }
   ],
   "source": [
    "pwd"
   ]
  },
  {
   "cell_type": "markdown",
   "metadata": {},
   "source": [
    "## Creating the Tensorboard Callback\n",
    "\n",
    "TensorBoard is a visualization tool provided with TensorFlow.\n",
    "\n",
    "This callback logs events for TensorBoard, including:\n",
    "* Metrics summary plots\n",
    "* Training graph visualization\n",
    "* Activation histograms\n",
    "* Sampled profiling\n",
    "\n",
    "If you have installed TensorFlow with pip, you should be able\n",
    "to launch TensorBoard from the command line:\n",
    "\n",
    "```sh\n",
    "tensorboard --logdir=path_to_your_logs\n",
    "```\n",
    "\n",
    "You can find more information about TensorBoard\n",
    "[here](https://www.tensorflow.org/tensorboard/).\n",
    "\n",
    "    Arguments:\n",
    "        log_dir: the path of the directory where to save the log files to be\n",
    "          parsed by TensorBoard.\n",
    "        histogram_freq: frequency (in epochs) at which to compute activation and\n",
    "          weight histograms for the layers of the model. If set to 0, histograms\n",
    "          won't be computed. Validation data (or split) must be specified for\n",
    "          histogram visualizations.\n",
    "        write_graph: whether to visualize the graph in TensorBoard. The log file\n",
    "          can become quite large when write_graph is set to True.\n",
    "        write_images: whether to write model weights to visualize as image in\n",
    "          TensorBoard.\n",
    "        update_freq: `'batch'` or `'epoch'` or integer. When using `'batch'`,\n",
    "          writes the losses and metrics to TensorBoard after each batch. The same\n",
    "          applies for `'epoch'`. If using an integer, let's say `1000`, the\n",
    "          callback will write the metrics and losses to TensorBoard every 1000\n",
    "          samples. Note that writing too frequently to TensorBoard can slow down\n",
    "          your training.\n",
    "        profile_batch: Profile the batch to sample compute characteristics. By\n",
    "          default, it will profile the second batch. Set profile_batch=0 to\n",
    "          disable profiling. Must run in TensorFlow eager mode.\n",
    "        embeddings_freq: frequency (in epochs) at which embedding layers will\n",
    "          be visualized. If set to 0, embeddings won't be visualized.\n",
    "       "
   ]
  },
  {
   "cell_type": "code",
   "execution_count": 15,
   "metadata": {},
   "outputs": [],
   "source": [
    "from datetime import datetime"
   ]
  },
  {
   "cell_type": "code",
   "execution_count": 16,
   "metadata": {},
   "outputs": [
    {
     "data": {
      "text/plain": [
       "'2020-05-17--1637'"
      ]
     },
     "execution_count": 16,
     "metadata": {},
     "output_type": "execute_result"
    }
   ],
   "source": [
    "datetime.now().strftime(\"%Y-%m-%d--%H%M\")"
   ]
  },
  {
   "cell_type": "code",
   "execution_count": 17,
   "metadata": {},
   "outputs": [],
   "source": [
    "# WINDOWS: Use \"logs\\\\fit\"\n",
    "# MACOS/LINUX: Use \"logs\\fit\"\n",
    "\n",
    "log_directory = 'logs\\\\fit'\n",
    "\n",
    "# OPTIONAL: ADD A TIMESTAMP FOR UNIQUE FOLDER\n",
    "# timestamp = datetime.now().strftime(\"%Y-%m-%d--%H%M\")\n",
    "# log_directory = log_directory + '\\\\' + timestamp\n",
    "\n",
    "\n",
    "board = TensorBoard(log_dir=log_directory,histogram_freq=1,\n",
    "    write_graph=True,\n",
    "    write_images=True,\n",
    "    update_freq='epoch',\n",
    "    profile_batch=2,\n",
    "    embeddings_freq=1)"
   ]
  },
  {
   "cell_type": "markdown",
   "metadata": {},
   "source": [
    "Now create the model layers:"
   ]
  },
  {
   "cell_type": "code",
   "execution_count": 18,
   "metadata": {},
   "outputs": [],
   "source": [
    "model = Sequential()\n",
    "model.add(Dense(units=30,activation='relu'))\n",
    "model.add(Dropout(0.5))\n",
    "model.add(Dense(units=15,activation='relu'))\n",
    "model.add(Dropout(0.5))\n",
    "model.add(Dense(units=1,activation='sigmoid'))\n",
    "model.compile(loss='binary_crossentropy', optimizer='adam')"
   ]
  },
  {
   "cell_type": "markdown",
   "metadata": {},
   "source": [
    "## Train the Model"
   ]
  },
  {
   "cell_type": "code",
   "execution_count": 19,
   "metadata": {},
   "outputs": [
    {
     "name": "stdout",
     "output_type": "stream",
     "text": [
      "Epoch 1/600\n",
      " 2/14 [===>..........................] - ETA: 7s - loss: 0.7128WARNING:tensorflow:Method (on_train_batch_end) is slow compared to the batch update (0.651510). Check your callbacks.\n",
      "14/14 [==============================] - 2s 158ms/step - loss: 0.6955 - val_loss: 0.6558\n",
      "Epoch 2/600\n",
      "14/14 [==============================] - 0s 10ms/step - loss: 0.6616 - val_loss: 0.6426\n",
      "Epoch 3/600\n",
      "14/14 [==============================] - 0s 11ms/step - loss: 0.6477 - val_loss: 0.6239\n",
      "Epoch 4/600\n",
      "14/14 [==============================] - 0s 17ms/step - loss: 0.6338 - val_loss: 0.6011\n",
      "Epoch 5/600\n",
      "14/14 [==============================] - 0s 11ms/step - loss: 0.6137 - val_loss: 0.5779\n",
      "Epoch 6/600\n",
      "14/14 [==============================] - 0s 8ms/step - loss: 0.5885 - val_loss: 0.5533\n",
      "Epoch 7/600\n",
      "14/14 [==============================] - 0s 14ms/step - loss: 0.5875 - val_loss: 0.5280\n",
      "Epoch 8/600\n",
      "14/14 [==============================] - 0s 18ms/step - loss: 0.5533 - val_loss: 0.5001\n",
      "Epoch 9/600\n",
      "14/14 [==============================] - 0s 9ms/step - loss: 0.5428 - val_loss: 0.4740\n",
      "Epoch 10/600\n",
      "14/14 [==============================] - 0s 7ms/step - loss: 0.4945 - val_loss: 0.4424\n",
      "Epoch 11/600\n",
      "14/14 [==============================] - 0s 7ms/step - loss: 0.5058 - val_loss: 0.4152\n",
      "Epoch 12/600\n",
      "14/14 [==============================] - 0s 22ms/step - loss: 0.4475 - val_loss: 0.3866\n",
      "Epoch 13/600\n",
      "14/14 [==============================] - 0s 10ms/step - loss: 0.4505 - val_loss: 0.3594\n",
      "Epoch 14/600\n",
      "14/14 [==============================] - 0s 8ms/step - loss: 0.4377 - val_loss: 0.3381\n",
      "Epoch 15/600\n",
      "14/14 [==============================] - 0s 10ms/step - loss: 0.4245 - val_loss: 0.3111\n",
      "Epoch 16/600\n",
      "14/14 [==============================] - 0s 15ms/step - loss: 0.3922 - val_loss: 0.2930\n",
      "Epoch 17/600\n",
      "14/14 [==============================] - 0s 13ms/step - loss: 0.3580 - val_loss: 0.2835\n",
      "Epoch 18/600\n",
      "14/14 [==============================] - 0s 10ms/step - loss: 0.3471 - val_loss: 0.2573\n",
      "Epoch 19/600\n",
      "14/14 [==============================] - 0s 8ms/step - loss: 0.3575 - val_loss: 0.2460\n",
      "Epoch 20/600\n",
      "14/14 [==============================] - 0s 8ms/step - loss: 0.3022 - val_loss: 0.2322\n",
      "Epoch 21/600\n",
      "14/14 [==============================] - 0s 13ms/step - loss: 0.3102 - val_loss: 0.2184\n",
      "Epoch 22/600\n",
      "14/14 [==============================] - 0s 16ms/step - loss: 0.3095 - val_loss: 0.2111\n",
      "Epoch 23/600\n",
      "14/14 [==============================] - 0s 12ms/step - loss: 0.2860 - val_loss: 0.1987\n",
      "Epoch 24/600\n",
      "14/14 [==============================] - 0s 9ms/step - loss: 0.2816 - val_loss: 0.1925\n",
      "Epoch 25/600\n",
      "14/14 [==============================] - 0s 8ms/step - loss: 0.2348 - val_loss: 0.1883\n",
      "Epoch 26/600\n",
      "14/14 [==============================] - 0s 9ms/step - loss: 0.2843 - val_loss: 0.1793\n",
      "Epoch 27/600\n",
      "14/14 [==============================] - 0s 17ms/step - loss: 0.2691 - val_loss: 0.1739\n",
      "Epoch 28/600\n",
      "14/14 [==============================] - 0s 9ms/step - loss: 0.2907 - val_loss: 0.1758\n",
      "Epoch 29/600\n",
      "14/14 [==============================] - 0s 8ms/step - loss: 0.2213 - val_loss: 0.1675\n",
      "Epoch 30/600\n",
      "14/14 [==============================] - 0s 9ms/step - loss: 0.2200 - val_loss: 0.1680\n",
      "Epoch 31/600\n",
      "14/14 [==============================] - 0s 14ms/step - loss: 0.2454 - val_loss: 0.1620\n",
      "Epoch 32/600\n",
      "14/14 [==============================] - 0s 12ms/step - loss: 0.2342 - val_loss: 0.1555\n",
      "Epoch 33/600\n",
      "14/14 [==============================] - 0s 8ms/step - loss: 0.2212 - val_loss: 0.1542\n",
      "Epoch 34/600\n",
      "14/14 [==============================] - 0s 6ms/step - loss: 0.2015 - val_loss: 0.1512\n",
      "Epoch 35/600\n",
      "14/14 [==============================] - 0s 7ms/step - loss: 0.2347 - val_loss: 0.1481\n",
      "Epoch 36/600\n",
      "14/14 [==============================] - 0s 12ms/step - loss: 0.1819 - val_loss: 0.1440\n",
      "Epoch 37/600\n",
      "14/14 [==============================] - 0s 10ms/step - loss: 0.2363 - val_loss: 0.1490\n",
      "Epoch 38/600\n",
      "14/14 [==============================] - 0s 8ms/step - loss: 0.2059 - val_loss: 0.1461\n",
      "Epoch 39/600\n",
      "14/14 [==============================] - 0s 6ms/step - loss: 0.1853 - val_loss: 0.1466\n",
      "Epoch 40/600\n",
      "14/14 [==============================] - 0s 7ms/step - loss: 0.1973 - val_loss: 0.1449\n",
      "Epoch 41/600\n",
      "14/14 [==============================] - 0s 20ms/step - loss: 0.1922 - val_loss: 0.1405\n",
      "Epoch 42/600\n",
      "14/14 [==============================] - 0s 9ms/step - loss: 0.1903 - val_loss: 0.1360\n",
      "Epoch 43/600\n",
      "14/14 [==============================] - 0s 8ms/step - loss: 0.1976 - val_loss: 0.1379\n",
      "Epoch 44/600\n",
      "14/14 [==============================] - 0s 7ms/step - loss: 0.1860 - val_loss: 0.1409\n",
      "Epoch 45/600\n",
      "14/14 [==============================] - 0s 8ms/step - loss: 0.1615 - val_loss: 0.1306\n",
      "Epoch 46/600\n",
      "14/14 [==============================] - 0s 14ms/step - loss: 0.1836 - val_loss: 0.1269\n",
      "Epoch 47/600\n",
      "14/14 [==============================] - 0s 10ms/step - loss: 0.1804 - val_loss: 0.1373\n",
      "Epoch 48/600\n",
      "14/14 [==============================] - 0s 7ms/step - loss: 0.1487 - val_loss: 0.1326\n",
      "Epoch 49/600\n",
      "14/14 [==============================] - 0s 7ms/step - loss: 0.1584 - val_loss: 0.1265\n",
      "Epoch 50/600\n",
      "14/14 [==============================] - 0s 9ms/step - loss: 0.1403 - val_loss: 0.1256\n",
      "Epoch 51/600\n",
      "14/14 [==============================] - 0s 17ms/step - loss: 0.1418 - val_loss: 0.1258\n",
      "Epoch 52/600\n",
      "14/14 [==============================] - 0s 11ms/step - loss: 0.1642 - val_loss: 0.1225\n",
      "Epoch 53/600\n",
      "14/14 [==============================] - 0s 7ms/step - loss: 0.1471 - val_loss: 0.1206\n",
      "Epoch 54/600\n",
      "14/14 [==============================] - 0s 7ms/step - loss: 0.1439 - val_loss: 0.1258\n",
      "Epoch 55/600\n",
      "14/14 [==============================] - 0s 7ms/step - loss: 0.1653 - val_loss: 0.1520\n",
      "Epoch 56/600\n",
      "14/14 [==============================] - 0s 18ms/step - loss: 0.1611 - val_loss: 0.1185\n",
      "Epoch 57/600\n",
      "14/14 [==============================] - 0s 10ms/step - loss: 0.1639 - val_loss: 0.1196\n",
      "Epoch 58/600\n",
      "14/14 [==============================] - 0s 8ms/step - loss: 0.1455 - val_loss: 0.1382\n",
      "Epoch 59/600\n",
      "14/14 [==============================] - 0s 7ms/step - loss: 0.1557 - val_loss: 0.1320\n",
      "Epoch 60/600\n",
      "14/14 [==============================] - 0s 8ms/step - loss: 0.1436 - val_loss: 0.1474\n",
      "Epoch 61/600\n",
      "14/14 [==============================] - 0s 11ms/step - loss: 0.1435 - val_loss: 0.1190\n",
      "Epoch 62/600\n",
      "14/14 [==============================] - 0s 12ms/step - loss: 0.1356 - val_loss: 0.1346\n",
      "Epoch 63/600\n",
      "14/14 [==============================] - 0s 10ms/step - loss: 0.1227 - val_loss: 0.1292\n",
      "Epoch 64/600\n",
      "14/14 [==============================] - 0s 7ms/step - loss: 0.1447 - val_loss: 0.1165\n",
      "Epoch 65/600\n",
      "14/14 [==============================] - 0s 7ms/step - loss: 0.1344 - val_loss: 0.1238\n",
      "Epoch 66/600\n",
      "14/14 [==============================] - 0s 8ms/step - loss: 0.1552 - val_loss: 0.1285\n",
      "Epoch 67/600\n",
      "14/14 [==============================] - 0s 15ms/step - loss: 0.1328 - val_loss: 0.1176\n",
      "Epoch 68/600\n",
      "14/14 [==============================] - 0s 13ms/step - loss: 0.1481 - val_loss: 0.1187\n",
      "Epoch 69/600\n",
      "14/14 [==============================] - 0s 7ms/step - loss: 0.1261 - val_loss: 0.1173\n",
      "Epoch 70/600\n",
      "14/14 [==============================] - 0s 10ms/step - loss: 0.1207 - val_loss: 0.1181\n",
      "Epoch 71/600\n",
      "14/14 [==============================] - 0s 9ms/step - loss: 0.1354 - val_loss: 0.1252\n",
      "Epoch 72/600\n",
      "14/14 [==============================] - 0s 11ms/step - loss: 0.1323 - val_loss: 0.1326\n",
      "Epoch 73/600\n",
      "14/14 [==============================] - 0s 9ms/step - loss: 0.1209 - val_loss: 0.1205\n",
      "Epoch 74/600\n",
      "14/14 [==============================] - 0s 7ms/step - loss: 0.0986 - val_loss: 0.1200\n",
      "Epoch 75/600\n",
      "14/14 [==============================] - 0s 7ms/step - loss: 0.1029 - val_loss: 0.1324\n",
      "Epoch 76/600\n",
      "14/14 [==============================] - 0s 9ms/step - loss: 0.1210 - val_loss: 0.1206\n",
      "Epoch 77/600\n",
      "14/14 [==============================] - 0s 12ms/step - loss: 0.1171 - val_loss: 0.1159\n",
      "Epoch 78/600\n",
      "14/14 [==============================] - 0s 10ms/step - loss: 0.1218 - val_loss: 0.1359\n",
      "Epoch 79/600\n",
      "14/14 [==============================] - 0s 7ms/step - loss: 0.1313 - val_loss: 0.1243\n",
      "Epoch 80/600\n",
      "14/14 [==============================] - 0s 6ms/step - loss: 0.1039 - val_loss: 0.1208\n"
     ]
    },
    {
     "name": "stdout",
     "output_type": "stream",
     "text": [
      "Epoch 81/600\n",
      "14/14 [==============================] - 0s 8ms/step - loss: 0.1089 - val_loss: 0.1160\n",
      "Epoch 82/600\n",
      "14/14 [==============================] - 0s 13ms/step - loss: 0.1176 - val_loss: 0.1115\n",
      "Epoch 83/600\n",
      "14/14 [==============================] - 0s 11ms/step - loss: 0.1240 - val_loss: 0.1258\n",
      "Epoch 84/600\n",
      "14/14 [==============================] - 0s 7ms/step - loss: 0.1120 - val_loss: 0.1142\n",
      "Epoch 85/600\n",
      "14/14 [==============================] - 0s 7ms/step - loss: 0.0826 - val_loss: 0.1410\n",
      "Epoch 86/600\n",
      "14/14 [==============================] - 0s 7ms/step - loss: 0.1378 - val_loss: 0.1194\n",
      "Epoch 87/600\n",
      "14/14 [==============================] - 0s 16ms/step - loss: 0.1208 - val_loss: 0.1358\n",
      "Epoch 88/600\n",
      "14/14 [==============================] - 0s 10ms/step - loss: 0.0967 - val_loss: 0.1270\n",
      "Epoch 89/600\n",
      "14/14 [==============================] - 0s 6ms/step - loss: 0.1070 - val_loss: 0.1189\n",
      "Epoch 90/600\n",
      "14/14 [==============================] - 0s 6ms/step - loss: 0.0945 - val_loss: 0.1310\n",
      "Epoch 91/600\n",
      "14/14 [==============================] - 0s 7ms/step - loss: 0.1103 - val_loss: 0.1350\n",
      "Epoch 92/600\n",
      "14/14 [==============================] - 0s 16ms/step - loss: 0.1085 - val_loss: 0.1172\n",
      "Epoch 93/600\n",
      "14/14 [==============================] - 0s 11ms/step - loss: 0.0896 - val_loss: 0.1213\n",
      "Epoch 94/600\n",
      "14/14 [==============================] - 0s 8ms/step - loss: 0.0948 - val_loss: 0.1493\n",
      "Epoch 95/600\n",
      "14/14 [==============================] - 0s 7ms/step - loss: 0.0922 - val_loss: 0.1178\n",
      "Epoch 96/600\n",
      "14/14 [==============================] - 0s 7ms/step - loss: 0.1017 - val_loss: 0.1158\n",
      "Epoch 97/600\n",
      "14/14 [==============================] - 0s 14ms/step - loss: 0.1007 - val_loss: 0.1121\n",
      "Epoch 98/600\n",
      "14/14 [==============================] - 0s 10ms/step - loss: 0.1130 - val_loss: 0.1390\n",
      "Epoch 99/600\n",
      "14/14 [==============================] - 0s 8ms/step - loss: 0.0998 - val_loss: 0.1171\n",
      "Epoch 100/600\n",
      "14/14 [==============================] - 0s 8ms/step - loss: 0.0979 - val_loss: 0.1256\n",
      "Epoch 101/600\n",
      "14/14 [==============================] - 0s 9ms/step - loss: 0.1024 - val_loss: 0.1148\n",
      "Epoch 102/600\n",
      "14/14 [==============================] - 0s 13ms/step - loss: 0.0841 - val_loss: 0.1171\n",
      "Epoch 103/600\n",
      "14/14 [==============================] - 0s 11ms/step - loss: 0.0832 - val_loss: 0.1174\n",
      "Epoch 104/600\n",
      "14/14 [==============================] - 0s 8ms/step - loss: 0.1074 - val_loss: 0.1334\n",
      "Epoch 105/600\n",
      "14/14 [==============================] - 0s 7ms/step - loss: 0.0747 - val_loss: 0.1272\n",
      "Epoch 106/600\n",
      "14/14 [==============================] - 0s 10ms/step - loss: 0.0976 - val_loss: 0.1261\n",
      "Epoch 107/600\n",
      "14/14 [==============================] - 0s 17ms/step - loss: 0.0702 - val_loss: 0.1120\n",
      "Epoch 00107: early stopping\n"
     ]
    },
    {
     "data": {
      "text/plain": [
       "<tensorflow.python.keras.callbacks.History at 0x2053542e548>"
      ]
     },
     "execution_count": 19,
     "metadata": {},
     "output_type": "execute_result"
    }
   ],
   "source": [
    "model.fit(x=X_train, \n",
    "          y=y_train, \n",
    "          epochs=600,\n",
    "          validation_data=(X_test, y_test), verbose=1,\n",
    "          callbacks=[early_stop,board]\n",
    "          )"
   ]
  },
  {
   "cell_type": "markdown",
   "metadata": {},
   "source": [
    "# Running Tensorboard\n"
   ]
  },
  {
   "cell_type": "markdown",
   "metadata": {},
   "source": [
    "## Running through the Command Line\n",
    "\n",
    "**Watch video to see how to run Tensorboard through a command line call.**"
   ]
  },
  {
   "cell_type": "markdown",
   "metadata": {},
   "source": [
    "Tensorboard will run locally in your browser at [http://localhost:6006/](http://localhost:6006/)\n"
   ]
  },
  {
   "cell_type": "code",
   "execution_count": 20,
   "metadata": {},
   "outputs": [
    {
     "name": "stdout",
     "output_type": "stream",
     "text": [
      "logs\\fit\n"
     ]
    }
   ],
   "source": [
    "print(log_directory)"
   ]
  },
  {
   "cell_type": "code",
   "execution_count": 21,
   "metadata": {},
   "outputs": [
    {
     "data": {
      "text/plain": [
       "'C:\\\\Users\\\\Visvash Attri\\\\Deep Learning\\\\TensorFlow_FILES\\\\ANNs'"
      ]
     },
     "execution_count": 21,
     "metadata": {},
     "output_type": "execute_result"
    }
   ],
   "source": [
    "pwd"
   ]
  },
  {
   "cell_type": "markdown",
   "metadata": {},
   "source": [
    "### Use cd at your command line to change directory to the file path reported back by pwd or your current .py file location.\n",
    "### Then run this code at your command line or terminal"
   ]
  },
  {
   "cell_type": "code",
   "execution_count": null,
   "metadata": {},
   "outputs": [],
   "source": [
    "tensorboard --logdir logs\\fit "
   ]
  }
 ],
 "metadata": {
  "kernelspec": {
   "display_name": "Python 3",
   "language": "python",
   "name": "python3"
  },
  "language_info": {
   "codemirror_mode": {
    "name": "ipython",
    "version": 3
   },
   "file_extension": ".py",
   "mimetype": "text/x-python",
   "name": "python",
   "nbconvert_exporter": "python",
   "pygments_lexer": "ipython3",
   "version": "3.7.4"
  }
 },
 "nbformat": 4,
 "nbformat_minor": 2
}
